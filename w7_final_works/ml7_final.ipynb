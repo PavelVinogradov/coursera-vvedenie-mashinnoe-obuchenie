{
 "cells": [
  {
   "cell_type": "code",
   "execution_count": 3,
   "metadata": {
    "collapsed": true
   },
   "outputs": [],
   "source": [
    "%matplotlib inline\n",
    "import matplotlib\n",
    "import pandas as pd\n",
    "import matplotlib.pyplot as plt\n",
    "import numpy as np"
   ]
  },
  {
   "cell_type": "markdown",
   "metadata": {},
   "source": [
    "# Подход 1: градиентный бустинг \"в лоб\""
   ]
  },
  {
   "cell_type": "code",
   "execution_count": 4,
   "metadata": {
    "collapsed": false
   },
   "outputs": [],
   "source": [
    "features = pd.read_csv('features.csv')\n",
    "features_test = pd.read_csv('features_test.csv')"
   ]
  },
  {
   "cell_type": "code",
   "execution_count": 6,
   "metadata": {
    "collapsed": false
   },
   "outputs": [
    {
     "name": "stdout",
     "output_type": "stream",
     "text": [
      "first_blood_time\n",
      "first_blood_team\n",
      "first_blood_player1\n",
      "first_blood_player2\n",
      "radiant_bottle_time\n",
      "radiant_courier_time\n",
      "radiant_flying_courier_time\n",
      "radiant_first_ward_time\n",
      "dire_bottle_time\n",
      "dire_courier_time\n",
      "dire_flying_courier_time\n",
      "dire_first_ward_time\n"
     ]
    }
   ],
   "source": [
    "x_dropf = features.drop(\n",
    "    ['duration', 'radiant_win', 'tower_status_radiant',\n",
    "     'tower_status_dire', 'barracks_status_radiant', \n",
    "     'barracks_status_dire'], axis=1\n",
    ")\n",
    "\n",
    "full_filled_dropf = x_dropf.dropna(axis=1)\n",
    "\n",
    "# Поля с пропусками\n",
    "for item in x_dropf.drop(full_filled_dropf.columns, axis=1).columns:\n",
    "    print item"
   ]
  },
  {
   "cell_type": "code",
   "execution_count": 11,
   "metadata": {
    "collapsed": true
   },
   "outputs": [],
   "source": [
    "# Заменяем пропуски на нули\n",
    "features = features.fillna(value=0)\n",
    "features_test = features_test.fillna(value=0)"
   ]
  },
  {
   "cell_type": "code",
   "execution_count": 12,
   "metadata": {
    "collapsed": false
   },
   "outputs": [
    {
     "name": "stdout",
     "output_type": "stream",
     "text": [
      "      Iter       Train Loss      OOB Improve   Remaining Time \n",
      "         1           1.3787           0.0062            1.37m\n",
      "         2           1.3733           0.0053            1.25m\n",
      "         3           1.3683           0.0048            1.19m\n",
      "         4           1.3629           0.0042            1.14m\n",
      "         5           1.3579           0.0040            1.07m\n",
      "         6           1.3542           0.0043            1.01m\n",
      "         7           1.3489           0.0038           57.41s\n",
      "         8           1.3459           0.0043           55.92s\n",
      "         9           1.3413           0.0037           52.91s\n",
      "        10           1.3365           0.0027           50.33s\n",
      "        20           1.3087           0.0019           24.40s\n",
      "        30           1.2879           0.0014            0.00s\n",
      "roc-auc 30 trees:  0.690710875095\n",
      "Time tree: 0:04:17.307000\n"
     ]
    }
   ],
   "source": [
    "from sklearn import cross_validation\n",
    "from sklearn import ensemble\n",
    "\n",
    "kf = cross_validation.KFold(len(features),n_folds=5,shuffle=True,random_state=241)\n",
    "features_target = features['radiant_win']\n",
    "features_train = features.drop(['duration','radiant_win','tower_status_radiant',\n",
    "                                'tower_status_dire','barracks_status_dire',\n",
    "                                'barracks_status_radiant'],axis=1)\n",
    "\n",
    "import time\n",
    "import datetime\n",
    "\n",
    "start_time = datetime.datetime.now()\n",
    "\n",
    "alg = ensemble.GradientBoostingClassifier(n_estimators=30, verbose=True, random_state=241,subsample=0.5)\n",
    "alg.fit(features_train, features_target)\n",
    "roc30 = cross_validation.cross_val_score(alg, features_train, features_target, cv=kf, n_jobs=-1,scoring='roc_auc').mean()\n",
    "\n",
    "print \"roc-auc 30 trees: \", roc30\n",
    "\n",
    "print 'Time tree:', datetime.datetime.now() - start_time"
   ]
  },
  {
   "cell_type": "code",
   "execution_count": 13,
   "metadata": {
    "collapsed": false
   },
   "outputs": [
    {
     "name": "stdout",
     "output_type": "stream",
     "text": [
      "      Iter       Train Loss      OOB Improve   Remaining Time \n",
      "         1           1.3787           0.0062            1.65m\n",
      "         2           1.3733           0.0053            1.66m\n",
      "         3           1.3683           0.0048            1.54m\n",
      "         4           1.3629           0.0042            1.49m\n",
      "         5           1.3579           0.0040            1.44m\n",
      "         6           1.3542           0.0043            1.39m\n",
      "         7           1.3489           0.0038            1.36m\n",
      "         8           1.3459           0.0043            1.31m\n",
      "         9           1.3413           0.0037            1.26m\n",
      "        10           1.3365           0.0027            1.22m\n",
      "        20           1.3087           0.0019           48.28s\n",
      "        30           1.2879           0.0014           24.18s\n",
      "        40           1.2755           0.0010            0.00s\n",
      "roc-auc 40 trees:  0.69545547381\n",
      "Time tree: 0:05:36.290000\n",
      "roc-auc delta: 0.00474459871544\n"
     ]
    }
   ],
   "source": [
    "start_time = datetime.datetime.now()\n",
    "\n",
    "alg40 = ensemble.GradientBoostingClassifier(n_estimators=40, verbose=True, random_state=241,subsample=0.5)\n",
    "alg40.fit(features_train, features_target)\n",
    "roc40 = cross_validation.cross_val_score(alg40, features_train, features_target, cv=kf, n_jobs=-1,scoring='roc_auc').mean()\n",
    "print \"roc-auc 40 trees: \", roc40\n",
    "\n",
    "print 'Time tree:', datetime.datetime.now() - start_time\n",
    "\n",
    "print \"roc-auc delta:\",  roc40-roc30"
   ]
  },
  {
   "cell_type": "markdown",
   "metadata": {},
   "source": [
    "## Ответы по первой части\n",
    "1. Какие признаки имеют пропуски среди своих значений? Что могут означать пропуски в этих признаках (ответьте на этот вопрос для двух любых признаков)?\n",
    "first_blood_time\n",
    "first_blood_team\n",
    "first_blood_player1\n",
    "first_blood_player2\n",
    "radiant_bottle_time\n",
    "radiant_courier_time\n",
    "radiant_flying_courier_time\n",
    "radiant_first_ward_time\n",
    "dire_bottle_time\n",
    "dire_courier_time\n",
    "dire_flying_courier_time\n",
    "dire_first_ward_time\n",
    "\n",
    "first_blood_time - ни одна из команд за первые 5 минут не совершила первой крови\n",
    "first_blood_team - см. выше, ни одна из команд не соверщила первой крови.\n",
    "\n",
    "2. Как называется столбец, содержащий целевую переменную?\n",
    "Целевая переменная в radiant win\n",
    "\n",
    "3. Как долго проводилась кросс-валидация для градиентного бустинга с 30 деревьями? Какое качество при этом получилось?\n",
    "Время выполения - 0:04:17\n",
    "Качество (в качестве метрики используем ROC-AUC) - 0.690710875095\n",
    "\n",
    "4. Имеет ли смысл использовать больше 30 деревьев в градиентном бустинге? Что можно сделать, чтобы ускорить его обучение при увеличении количества деревьев?\n",
    "Проведён эесперемент на 40 деревьях - при этом качество увеличелос на 0.0048.\n",
    "Не считаю целесообразным увеличивать количетво деревьев, т.к. время построения 40 деревьев больше на минуту."
   ]
  },
  {
   "cell_type": "markdown",
   "metadata": {},
   "source": [
    "# Подход 2: логистическая регрессия"
   ]
  },
  {
   "cell_type": "code",
   "execution_count": 13,
   "metadata": {
    "collapsed": false
   },
   "outputs": [
    {
     "name": "stdout",
     "output_type": "stream",
     "text": [
      "Wall time: 3min 2s\n",
      "Quality 0.71627623552 for {'C': 0.001}\n",
      "Quality 0.716421655412 for {'C': 0.112}\n",
      "Quality 0.716419848882 for {'C': 0.223}\n",
      "Quality 0.716419358408 for {'C': 0.33400000000000002}\n",
      "Quality 0.716418795932 for {'C': 0.44500000000000001}\n",
      "Quality 0.716418521695 for {'C': 0.55600000000000005}\n",
      "Quality 0.716418303507 for {'C': 0.66700000000000004}\n",
      "Quality 0.716418417868 for {'C': 0.77800000000000002}\n",
      "Quality 0.716418212351 for {'C': 0.88900000000000001}\n",
      "Quality 0.71641818587 for {'C': 1.0}\n",
      "('Best param: ', {'C': 0.112})\n"
     ]
    }
   ],
   "source": [
    "import sklearn.cross_validation\n",
    "import sklearn.ensemble\n",
    "import sklearn.metrics\n",
    "import sklearn.preprocessing\n",
    "\n",
    "X = features.ix[:,:-6]\n",
    "y = features['radiant_win']\n",
    "\n",
    "XX = sklearn.preprocessing.StandardScaler().fit_transform(X)\n",
    "\n",
    "fold = sklearn.cross_validation.KFold(n=len(XX), n_folds=5, random_state=1, shuffle=True)\n",
    "clf = sklearn.linear_model.LogisticRegression()\n",
    "grid = {'C': np.linspace(0.001,1,10)}\n",
    "gs = sklearn.grid_search.GridSearchCV(clf, grid, scoring='roc_auc', cv=fold, n_jobs=8)\n",
    "%time gs.fit(XX, y)\n",
    "for score in gs.grid_scores_:\n",
    "    print(\"Quality {} for {}\".format(score.mean_validation_score, score.parameters))\n",
    "print(\"Best param: \", gs.best_params_)"
   ]
  },
  {
   "cell_type": "markdown",
   "metadata": {
    "collapsed": true
   },
   "source": [
    "Наилучшее качетство при С=0.112, оно равно 0.716421655412. Данное значение привосходит результат при градиентном бустинге. \n",
    "Лоигистичесткая регрессия позволяет найти гиперплоскость максимально разделяющую объекты двух классов - она лучше работает когда объекты слабо сгруппированы в пространстве."
   ]
  },
  {
   "cell_type": "code",
   "execution_count": 14,
   "metadata": {
    "collapsed": false
   },
   "outputs": [
    {
     "data": {
      "text/html": [
       "<div>\n",
       "<table border=\"1\" class=\"dataframe\">\n",
       "  <thead>\n",
       "    <tr style=\"text-align: right;\">\n",
       "      <th></th>\n",
       "      <th>match_id</th>\n",
       "      <th>start_time</th>\n",
       "      <th>r1_level</th>\n",
       "      <th>r1_xp</th>\n",
       "      <th>r1_gold</th>\n",
       "      <th>r1_lh</th>\n",
       "      <th>r1_kills</th>\n",
       "      <th>r1_deaths</th>\n",
       "      <th>r1_items</th>\n",
       "      <th>r2_level</th>\n",
       "      <th>...</th>\n",
       "      <th>radiant_ward_sentry_count</th>\n",
       "      <th>radiant_first_ward_time</th>\n",
       "      <th>dire_bottle_time</th>\n",
       "      <th>dire_courier_time</th>\n",
       "      <th>dire_flying_courier_time</th>\n",
       "      <th>dire_tpscroll_count</th>\n",
       "      <th>dire_boots_count</th>\n",
       "      <th>dire_ward_observer_count</th>\n",
       "      <th>dire_ward_sentry_count</th>\n",
       "      <th>dire_first_ward_time</th>\n",
       "    </tr>\n",
       "  </thead>\n",
       "  <tbody>\n",
       "    <tr>\n",
       "      <th>0</th>\n",
       "      <td>0</td>\n",
       "      <td>1430198770</td>\n",
       "      <td>5</td>\n",
       "      <td>2098</td>\n",
       "      <td>1489</td>\n",
       "      <td>20</td>\n",
       "      <td>0</td>\n",
       "      <td>0</td>\n",
       "      <td>7</td>\n",
       "      <td>3</td>\n",
       "      <td>...</td>\n",
       "      <td>0</td>\n",
       "      <td>35</td>\n",
       "      <td>103</td>\n",
       "      <td>-84</td>\n",
       "      <td>221</td>\n",
       "      <td>3</td>\n",
       "      <td>4</td>\n",
       "      <td>2</td>\n",
       "      <td>2</td>\n",
       "      <td>-52</td>\n",
       "    </tr>\n",
       "    <tr>\n",
       "      <th>1</th>\n",
       "      <td>1</td>\n",
       "      <td>1430220345</td>\n",
       "      <td>4</td>\n",
       "      <td>1188</td>\n",
       "      <td>1033</td>\n",
       "      <td>9</td>\n",
       "      <td>0</td>\n",
       "      <td>1</td>\n",
       "      <td>12</td>\n",
       "      <td>4</td>\n",
       "      <td>...</td>\n",
       "      <td>0</td>\n",
       "      <td>-20</td>\n",
       "      <td>149</td>\n",
       "      <td>-84</td>\n",
       "      <td>195</td>\n",
       "      <td>5</td>\n",
       "      <td>4</td>\n",
       "      <td>3</td>\n",
       "      <td>1</td>\n",
       "      <td>-5</td>\n",
       "    </tr>\n",
       "    <tr>\n",
       "      <th>2</th>\n",
       "      <td>2</td>\n",
       "      <td>1430227081</td>\n",
       "      <td>4</td>\n",
       "      <td>1319</td>\n",
       "      <td>1270</td>\n",
       "      <td>22</td>\n",
       "      <td>0</td>\n",
       "      <td>0</td>\n",
       "      <td>12</td>\n",
       "      <td>3</td>\n",
       "      <td>...</td>\n",
       "      <td>1</td>\n",
       "      <td>-39</td>\n",
       "      <td>45</td>\n",
       "      <td>-77</td>\n",
       "      <td>221</td>\n",
       "      <td>3</td>\n",
       "      <td>4</td>\n",
       "      <td>3</td>\n",
       "      <td>1</td>\n",
       "      <td>13</td>\n",
       "    </tr>\n",
       "    <tr>\n",
       "      <th>3</th>\n",
       "      <td>3</td>\n",
       "      <td>1430263531</td>\n",
       "      <td>4</td>\n",
       "      <td>1779</td>\n",
       "      <td>1056</td>\n",
       "      <td>14</td>\n",
       "      <td>0</td>\n",
       "      <td>0</td>\n",
       "      <td>5</td>\n",
       "      <td>2</td>\n",
       "      <td>...</td>\n",
       "      <td>0</td>\n",
       "      <td>-30</td>\n",
       "      <td>124</td>\n",
       "      <td>-80</td>\n",
       "      <td>184</td>\n",
       "      <td>0</td>\n",
       "      <td>4</td>\n",
       "      <td>2</td>\n",
       "      <td>0</td>\n",
       "      <td>27</td>\n",
       "    </tr>\n",
       "    <tr>\n",
       "      <th>4</th>\n",
       "      <td>4</td>\n",
       "      <td>1430282290</td>\n",
       "      <td>4</td>\n",
       "      <td>1431</td>\n",
       "      <td>1090</td>\n",
       "      <td>8</td>\n",
       "      <td>1</td>\n",
       "      <td>0</td>\n",
       "      <td>8</td>\n",
       "      <td>2</td>\n",
       "      <td>...</td>\n",
       "      <td>0</td>\n",
       "      <td>46</td>\n",
       "      <td>182</td>\n",
       "      <td>-80</td>\n",
       "      <td>225</td>\n",
       "      <td>6</td>\n",
       "      <td>3</td>\n",
       "      <td>3</td>\n",
       "      <td>0</td>\n",
       "      <td>-16</td>\n",
       "    </tr>\n",
       "  </tbody>\n",
       "</table>\n",
       "<p>5 rows × 92 columns</p>\n",
       "</div>"
      ],
      "text/plain": [
       "   match_id  start_time  r1_level  r1_xp  r1_gold  r1_lh  r1_kills  r1_deaths  \\\n",
       "0         0  1430198770         5   2098     1489     20         0          0   \n",
       "1         1  1430220345         4   1188     1033      9         0          1   \n",
       "2         2  1430227081         4   1319     1270     22         0          0   \n",
       "3         3  1430263531         4   1779     1056     14         0          0   \n",
       "4         4  1430282290         4   1431     1090      8         1          0   \n",
       "\n",
       "   r1_items  r2_level          ...           radiant_ward_sentry_count  \\\n",
       "0         7         3          ...                                   0   \n",
       "1        12         4          ...                                   0   \n",
       "2        12         3          ...                                   1   \n",
       "3         5         2          ...                                   0   \n",
       "4         8         2          ...                                   0   \n",
       "\n",
       "   radiant_first_ward_time  dire_bottle_time  dire_courier_time  \\\n",
       "0                       35               103                -84   \n",
       "1                      -20               149                -84   \n",
       "2                      -39                45                -77   \n",
       "3                      -30               124                -80   \n",
       "4                       46               182                -80   \n",
       "\n",
       "   dire_flying_courier_time  dire_tpscroll_count  dire_boots_count  \\\n",
       "0                       221                    3                 4   \n",
       "1                       195                    5                 4   \n",
       "2                       221                    3                 4   \n",
       "3                       184                    0                 4   \n",
       "4                       225                    6                 3   \n",
       "\n",
       "   dire_ward_observer_count  dire_ward_sentry_count  dire_first_ward_time  \n",
       "0                         2                       2                   -52  \n",
       "1                         3                       1                    -5  \n",
       "2                         3                       1                    13  \n",
       "3                         2                       0                    27  \n",
       "4                         3                       0                   -16  \n",
       "\n",
       "[5 rows x 92 columns]"
      ]
     },
     "execution_count": 14,
     "metadata": {},
     "output_type": "execute_result"
    }
   ],
   "source": [
    "def del_from_x(X):\n",
    "    drops = [\"{}{}_hero\".format(c, i) for c in 'rd' for i in range(1,6)]\n",
    "    X2 = X.drop('lobby_type', axis=1).drop(drops, axis=1)\n",
    "    return X2\n",
    "\n",
    "X2 = del_from_x(X)\n",
    "X2.head()"
   ]
  },
  {
   "cell_type": "code",
   "execution_count": 15,
   "metadata": {
    "collapsed": false
   },
   "outputs": [
    {
     "name": "stdout",
     "output_type": "stream",
     "text": [
      "Wall time: 2min 46s\n",
      "Quality 0.716311210036 for {'C': 0.001}\n",
      "Quality 0.716464409127 for {'C': 0.112}\n",
      "Quality 0.716462877056 for {'C': 0.223}\n",
      "Quality 0.716462348693 for {'C': 0.33400000000000002}\n",
      "Quality 0.716462204764 for {'C': 0.44500000000000001}\n",
      "Quality 0.716461871245 for {'C': 0.55600000000000005}\n",
      "Quality 0.71646181819 for {'C': 0.66700000000000004}\n",
      "Quality 0.716461576676 for {'C': 0.77800000000000002}\n",
      "Quality 0.716461501546 for {'C': 0.88900000000000001}\n",
      "Quality 0.716461422106 for {'C': 1.0}\n",
      "('Best param: ', {'C': 0.112})\n"
     ]
    }
   ],
   "source": [
    "import sklearn.cross_validation\n",
    "import sklearn.ensemble\n",
    "import sklearn.metrics\n",
    "import sklearn.preprocessing\n",
    "\n",
    "XX2 = sklearn.preprocessing.StandardScaler().fit_transform(X2)\n",
    "\n",
    "fold = sklearn.cross_validation.KFold(n=len(XX2), n_folds=5, random_state=1, shuffle=True)\n",
    "clf = sklearn.linear_model.LogisticRegression()\n",
    "grid = {'C': np.linspace(0.001,1,10)}\n",
    "gs = sklearn.grid_search.GridSearchCV(clf, grid, scoring='roc_auc', cv=fold, n_jobs=8)\n",
    "%time gs.fit(XX2, y)\n",
    "for score in gs.grid_scores_:\n",
    "    print(\"Quality {} for {}\".format(score.mean_validation_score, score.parameters))\n",
    "print(\"Best param: \", gs.best_params_)"
   ]
  },
  {
   "cell_type": "markdown",
   "metadata": {},
   "source": [
    "Качество результатов практические не изменилось, т.к. линейная модель плохо работает с категориальными признаками. Исключение данных не повлияло на выборку."
   ]
  },
  {
   "cell_type": "code",
   "execution_count": 23,
   "metadata": {
    "collapsed": false
   },
   "outputs": [
    {
     "name": "stdout",
     "output_type": "stream",
     "text": [
      "количество уникальных героев в игре: 108\n"
     ]
    }
   ],
   "source": [
    "unique_heroes = []\n",
    "for name in ['r1_hero','r2_hero','r3_hero','r4_hero','r5_hero','d1_hero','d2_hero','d3_hero','d4_hero','d5_hero']:\n",
    "    for u in pd.unique(features_test[name]):\n",
    "        if u not in unique_heroes:\n",
    "            unique_heroes.append(u)\n",
    "len_unique_heroes = len(unique_heroes)\n",
    "print 'количество уникальных героев в игре:', len_unique_heroes"
   ]
  },
  {
   "cell_type": "code",
   "execution_count": 26,
   "metadata": {
    "collapsed": false
   },
   "outputs": [
    {
     "data": {
      "text/plain": [
       "array([[ 0.,  1.,  0., ...,  1.,  0.,  0.],\n",
       "       [ 0.,  0.,  0., ...,  0.,  0.,  0.],\n",
       "       [ 0.,  1.,  0., ...,  0.,  0.,  0.],\n",
       "       ..., \n",
       "       [ 0.,  0.,  1., ...,  0.,  0.,  0.],\n",
       "       [ 0.,  1.,  0., ...,  0.,  0.,  0.],\n",
       "       [ 0.,  1., -1., ...,  0.,  0.,  0.]])"
      ]
     },
     "execution_count": 26,
     "metadata": {},
     "output_type": "execute_result"
    }
   ],
   "source": [
    "def pick_from(X):\n",
    "    X_pick = np.zeros((X.shape[0], len_unique_heroes))\n",
    "    for i, match_id in enumerate(X.index):\n",
    "        for p in range(1,6):\n",
    "            X_pick[i, np.where(unique_heroes == X.ix[match_id, 'r%d_hero' % p])] = 1\n",
    "            X_pick[i, np.where(unique_heroes == X.ix[match_id, 'd%d_hero' % p])] = -1\n",
    "    return X_pick\n",
    "\n",
    "X_pick = pick_from(X)\n",
    "X_pick"
   ]
  },
  {
   "cell_type": "code",
   "execution_count": 28,
   "metadata": {
    "collapsed": false
   },
   "outputs": [
    {
     "data": {
      "text/html": [
       "<div>\n",
       "<table border=\"1\" class=\"dataframe\">\n",
       "  <thead>\n",
       "    <tr style=\"text-align: right;\">\n",
       "      <th></th>\n",
       "      <th>match_id</th>\n",
       "      <th>start_time</th>\n",
       "      <th>r1_level</th>\n",
       "      <th>r1_xp</th>\n",
       "      <th>r1_gold</th>\n",
       "      <th>r1_lh</th>\n",
       "      <th>r1_kills</th>\n",
       "      <th>r1_deaths</th>\n",
       "      <th>r1_items</th>\n",
       "      <th>r2_level</th>\n",
       "      <th>...</th>\n",
       "      <th>98</th>\n",
       "      <th>99</th>\n",
       "      <th>100</th>\n",
       "      <th>101</th>\n",
       "      <th>102</th>\n",
       "      <th>103</th>\n",
       "      <th>104</th>\n",
       "      <th>105</th>\n",
       "      <th>106</th>\n",
       "      <th>107</th>\n",
       "    </tr>\n",
       "  </thead>\n",
       "  <tbody>\n",
       "    <tr>\n",
       "      <th>0</th>\n",
       "      <td>0</td>\n",
       "      <td>1430198770</td>\n",
       "      <td>5</td>\n",
       "      <td>2098</td>\n",
       "      <td>1489</td>\n",
       "      <td>20</td>\n",
       "      <td>0</td>\n",
       "      <td>0</td>\n",
       "      <td>7</td>\n",
       "      <td>3</td>\n",
       "      <td>...</td>\n",
       "      <td>0</td>\n",
       "      <td>0</td>\n",
       "      <td>0</td>\n",
       "      <td>0</td>\n",
       "      <td>0</td>\n",
       "      <td>0</td>\n",
       "      <td>0</td>\n",
       "      <td>1</td>\n",
       "      <td>0</td>\n",
       "      <td>0</td>\n",
       "    </tr>\n",
       "    <tr>\n",
       "      <th>1</th>\n",
       "      <td>1</td>\n",
       "      <td>1430220345</td>\n",
       "      <td>4</td>\n",
       "      <td>1188</td>\n",
       "      <td>1033</td>\n",
       "      <td>9</td>\n",
       "      <td>0</td>\n",
       "      <td>1</td>\n",
       "      <td>12</td>\n",
       "      <td>4</td>\n",
       "      <td>...</td>\n",
       "      <td>0</td>\n",
       "      <td>0</td>\n",
       "      <td>0</td>\n",
       "      <td>0</td>\n",
       "      <td>0</td>\n",
       "      <td>0</td>\n",
       "      <td>0</td>\n",
       "      <td>0</td>\n",
       "      <td>0</td>\n",
       "      <td>0</td>\n",
       "    </tr>\n",
       "    <tr>\n",
       "      <th>2</th>\n",
       "      <td>2</td>\n",
       "      <td>1430227081</td>\n",
       "      <td>4</td>\n",
       "      <td>1319</td>\n",
       "      <td>1270</td>\n",
       "      <td>22</td>\n",
       "      <td>0</td>\n",
       "      <td>0</td>\n",
       "      <td>12</td>\n",
       "      <td>3</td>\n",
       "      <td>...</td>\n",
       "      <td>0</td>\n",
       "      <td>0</td>\n",
       "      <td>0</td>\n",
       "      <td>0</td>\n",
       "      <td>0</td>\n",
       "      <td>0</td>\n",
       "      <td>0</td>\n",
       "      <td>0</td>\n",
       "      <td>0</td>\n",
       "      <td>0</td>\n",
       "    </tr>\n",
       "    <tr>\n",
       "      <th>3</th>\n",
       "      <td>3</td>\n",
       "      <td>1430263531</td>\n",
       "      <td>4</td>\n",
       "      <td>1779</td>\n",
       "      <td>1056</td>\n",
       "      <td>14</td>\n",
       "      <td>0</td>\n",
       "      <td>0</td>\n",
       "      <td>5</td>\n",
       "      <td>2</td>\n",
       "      <td>...</td>\n",
       "      <td>0</td>\n",
       "      <td>0</td>\n",
       "      <td>0</td>\n",
       "      <td>0</td>\n",
       "      <td>0</td>\n",
       "      <td>0</td>\n",
       "      <td>0</td>\n",
       "      <td>0</td>\n",
       "      <td>0</td>\n",
       "      <td>0</td>\n",
       "    </tr>\n",
       "    <tr>\n",
       "      <th>4</th>\n",
       "      <td>4</td>\n",
       "      <td>1430282290</td>\n",
       "      <td>4</td>\n",
       "      <td>1431</td>\n",
       "      <td>1090</td>\n",
       "      <td>8</td>\n",
       "      <td>1</td>\n",
       "      <td>0</td>\n",
       "      <td>8</td>\n",
       "      <td>2</td>\n",
       "      <td>...</td>\n",
       "      <td>0</td>\n",
       "      <td>0</td>\n",
       "      <td>0</td>\n",
       "      <td>-1</td>\n",
       "      <td>0</td>\n",
       "      <td>0</td>\n",
       "      <td>0</td>\n",
       "      <td>0</td>\n",
       "      <td>0</td>\n",
       "      <td>0</td>\n",
       "    </tr>\n",
       "  </tbody>\n",
       "</table>\n",
       "<p>5 rows × 200 columns</p>\n",
       "</div>"
      ],
      "text/plain": [
       "   match_id  start_time  r1_level  r1_xp  r1_gold  r1_lh  r1_kills  r1_deaths  \\\n",
       "0         0  1430198770         5   2098     1489     20         0          0   \n",
       "1         1  1430220345         4   1188     1033      9         0          1   \n",
       "2         2  1430227081         4   1319     1270     22         0          0   \n",
       "3         3  1430263531         4   1779     1056     14         0          0   \n",
       "4         4  1430282290         4   1431     1090      8         1          0   \n",
       "\n",
       "   r1_items  r2_level ...   98  99  100  101  102  103  104  105  106  107  \n",
       "0         7         3 ...    0   0    0    0    0    0    0    1    0    0  \n",
       "1        12         4 ...    0   0    0    0    0    0    0    0    0    0  \n",
       "2        12         3 ...    0   0    0    0    0    0    0    0    0    0  \n",
       "3         5         2 ...    0   0    0    0    0    0    0    0    0    0  \n",
       "4         8         2 ...    0   0    0   -1    0    0    0    0    0    0  \n",
       "\n",
       "[5 rows x 200 columns]"
      ]
     },
     "execution_count": 28,
     "metadata": {},
     "output_type": "execute_result"
    }
   ],
   "source": [
    "X4 = X2.join(pd.DataFrame(X_pick, index=features.index))\n",
    "X4.head()"
   ]
  },
  {
   "cell_type": "code",
   "execution_count": 29,
   "metadata": {
    "collapsed": false
   },
   "outputs": [
    {
     "name": "stdout",
     "output_type": "stream",
     "text": [
      "Wall time: 5min 21s\n",
      "Quality 0.751649175002 for {'C': 0.001}\n",
      "Quality 0.751901751325 for {'C': 0.112}\n",
      "Quality 0.751898168114 for {'C': 0.223}\n",
      "Quality 0.751896478549 for {'C': 0.33400000000000002}\n",
      "Quality 0.751895795275 for {'C': 0.44500000000000001}\n",
      "Quality 0.751895467936 for {'C': 0.55600000000000005}\n",
      "Quality 0.751895352368 for {'C': 0.66700000000000004}\n",
      "Quality 0.751895209351 for {'C': 0.77800000000000002}\n",
      "Quality 0.75189532054 for {'C': 0.88900000000000001}\n",
      "Quality 0.751895163809 for {'C': 1.0}\n",
      "('Best param: ', {'C': 0.112})\n"
     ]
    }
   ],
   "source": [
    "XX4 = sklearn.preprocessing.StandardScaler().fit_transform(X4)\n",
    "\n",
    "fold = sklearn.cross_validation.KFold(n=len(XX4), n_folds=5, random_state=1, shuffle=True)\n",
    "clf = sklearn.linear_model.LogisticRegression()\n",
    "grid = {'C': np.linspace(0.001,1,10)}\n",
    "gs = sklearn.grid_search.GridSearchCV(clf, grid, scoring='roc_auc', cv=fold, n_jobs=8)\n",
    "%time gs.fit(XX4, y)\n",
    "for score in gs.grid_scores_:\n",
    "    print(\"Quality {} for {}\".format(score.mean_validation_score, score.parameters))\n",
    "print(\"Best param: \", gs.best_params_)"
   ]
  },
  {
   "cell_type": "markdown",
   "metadata": {},
   "source": [
    "Качество возросло до 0.751901751325. Поскольку значения классификатора до этого момента перечисленные в задании категориальные признаки не вносили значительного вклада при построении класификатора ввиду особенностей класификатора. Теперь же эти данные адаптированы для использования классификатором."
   ]
  },
  {
   "cell_type": "code",
   "execution_count": 37,
   "metadata": {
    "collapsed": false
   },
   "outputs": [],
   "source": [
    "features_test = pd.read_csv('./features_test.csv')\n",
    "X_test = features_test\n",
    "X_test = X_test.fillna(0)\n",
    "X2_test = del_from_x(X_test)\n",
    "X4_test = X2_test.join(pd.DataFrame(pick_from(X_test), index=features_test.index))"
   ]
  },
  {
   "cell_type": "code",
   "execution_count": 38,
   "metadata": {
    "collapsed": false
   },
   "outputs": [
    {
     "data": {
      "text/html": [
       "<div>\n",
       "<table border=\"1\" class=\"dataframe\">\n",
       "  <thead>\n",
       "    <tr style=\"text-align: right;\">\n",
       "      <th></th>\n",
       "      <th>match_id</th>\n",
       "      <th>start_time</th>\n",
       "      <th>r1_level</th>\n",
       "      <th>r1_xp</th>\n",
       "      <th>r1_gold</th>\n",
       "      <th>r1_lh</th>\n",
       "      <th>r1_kills</th>\n",
       "      <th>r1_deaths</th>\n",
       "      <th>r1_items</th>\n",
       "      <th>r2_level</th>\n",
       "      <th>...</th>\n",
       "      <th>98</th>\n",
       "      <th>99</th>\n",
       "      <th>100</th>\n",
       "      <th>101</th>\n",
       "      <th>102</th>\n",
       "      <th>103</th>\n",
       "      <th>104</th>\n",
       "      <th>105</th>\n",
       "      <th>106</th>\n",
       "      <th>107</th>\n",
       "    </tr>\n",
       "  </thead>\n",
       "  <tbody>\n",
       "    <tr>\n",
       "      <th>0</th>\n",
       "      <td>6</td>\n",
       "      <td>1430287923</td>\n",
       "      <td>4</td>\n",
       "      <td>1103</td>\n",
       "      <td>1089</td>\n",
       "      <td>8</td>\n",
       "      <td>0</td>\n",
       "      <td>1</td>\n",
       "      <td>9</td>\n",
       "      <td>3</td>\n",
       "      <td>...</td>\n",
       "      <td>0</td>\n",
       "      <td>0</td>\n",
       "      <td>0</td>\n",
       "      <td>0</td>\n",
       "      <td>-1</td>\n",
       "      <td>0</td>\n",
       "      <td>0</td>\n",
       "      <td>0</td>\n",
       "      <td>0</td>\n",
       "      <td>0</td>\n",
       "    </tr>\n",
       "    <tr>\n",
       "      <th>1</th>\n",
       "      <td>7</td>\n",
       "      <td>1430293357</td>\n",
       "      <td>2</td>\n",
       "      <td>556</td>\n",
       "      <td>570</td>\n",
       "      <td>1</td>\n",
       "      <td>0</td>\n",
       "      <td>0</td>\n",
       "      <td>9</td>\n",
       "      <td>4</td>\n",
       "      <td>...</td>\n",
       "      <td>0</td>\n",
       "      <td>0</td>\n",
       "      <td>0</td>\n",
       "      <td>0</td>\n",
       "      <td>0</td>\n",
       "      <td>0</td>\n",
       "      <td>0</td>\n",
       "      <td>0</td>\n",
       "      <td>0</td>\n",
       "      <td>0</td>\n",
       "    </tr>\n",
       "    <tr>\n",
       "      <th>2</th>\n",
       "      <td>10</td>\n",
       "      <td>1430301774</td>\n",
       "      <td>2</td>\n",
       "      <td>751</td>\n",
       "      <td>808</td>\n",
       "      <td>1</td>\n",
       "      <td>0</td>\n",
       "      <td>0</td>\n",
       "      <td>13</td>\n",
       "      <td>2</td>\n",
       "      <td>...</td>\n",
       "      <td>0</td>\n",
       "      <td>-1</td>\n",
       "      <td>0</td>\n",
       "      <td>0</td>\n",
       "      <td>0</td>\n",
       "      <td>0</td>\n",
       "      <td>0</td>\n",
       "      <td>0</td>\n",
       "      <td>0</td>\n",
       "      <td>0</td>\n",
       "    </tr>\n",
       "    <tr>\n",
       "      <th>3</th>\n",
       "      <td>13</td>\n",
       "      <td>1430323933</td>\n",
       "      <td>3</td>\n",
       "      <td>708</td>\n",
       "      <td>903</td>\n",
       "      <td>1</td>\n",
       "      <td>1</td>\n",
       "      <td>1</td>\n",
       "      <td>11</td>\n",
       "      <td>2</td>\n",
       "      <td>...</td>\n",
       "      <td>-1</td>\n",
       "      <td>0</td>\n",
       "      <td>0</td>\n",
       "      <td>0</td>\n",
       "      <td>0</td>\n",
       "      <td>0</td>\n",
       "      <td>0</td>\n",
       "      <td>0</td>\n",
       "      <td>0</td>\n",
       "      <td>0</td>\n",
       "    </tr>\n",
       "    <tr>\n",
       "      <th>4</th>\n",
       "      <td>16</td>\n",
       "      <td>1430331112</td>\n",
       "      <td>4</td>\n",
       "      <td>1259</td>\n",
       "      <td>661</td>\n",
       "      <td>4</td>\n",
       "      <td>0</td>\n",
       "      <td>0</td>\n",
       "      <td>9</td>\n",
       "      <td>5</td>\n",
       "      <td>...</td>\n",
       "      <td>0</td>\n",
       "      <td>0</td>\n",
       "      <td>0</td>\n",
       "      <td>0</td>\n",
       "      <td>0</td>\n",
       "      <td>0</td>\n",
       "      <td>0</td>\n",
       "      <td>0</td>\n",
       "      <td>0</td>\n",
       "      <td>0</td>\n",
       "    </tr>\n",
       "  </tbody>\n",
       "</table>\n",
       "<p>5 rows × 200 columns</p>\n",
       "</div>"
      ],
      "text/plain": [
       "   match_id  start_time  r1_level  r1_xp  r1_gold  r1_lh  r1_kills  r1_deaths  \\\n",
       "0         6  1430287923         4   1103     1089      8         0          1   \n",
       "1         7  1430293357         2    556      570      1         0          0   \n",
       "2        10  1430301774         2    751      808      1         0          0   \n",
       "3        13  1430323933         3    708      903      1         1          1   \n",
       "4        16  1430331112         4   1259      661      4         0          0   \n",
       "\n",
       "   r1_items  r2_level ...   98  99  100  101  102  103  104  105  106  107  \n",
       "0         9         3 ...    0   0    0    0   -1    0    0    0    0    0  \n",
       "1         9         4 ...    0   0    0    0    0    0    0    0    0    0  \n",
       "2        13         2 ...    0  -1    0    0    0    0    0    0    0    0  \n",
       "3        11         2 ...   -1   0    0    0    0    0    0    0    0    0  \n",
       "4         9         5 ...    0   0    0    0    0    0    0    0    0    0  \n",
       "\n",
       "[5 rows x 200 columns]"
      ]
     },
     "execution_count": 38,
     "metadata": {},
     "output_type": "execute_result"
    }
   ],
   "source": [
    "X4_test.head()"
   ]
  },
  {
   "cell_type": "code",
   "execution_count": 39,
   "metadata": {
    "collapsed": false
   },
   "outputs": [
    {
     "name": "stdout",
     "output_type": "stream",
     "text": [
      "(0.0034224716484642093, 0.99657752835153579)\n",
      "[[ 0.16771354  0.83228646]\n",
      " [ 0.23547667  0.76452333]\n",
      " [ 0.80716253  0.19283747]\n",
      " ..., \n",
      " [ 0.75725084  0.24274916]\n",
      " [ 0.3570561   0.6429439 ]\n",
      " [ 0.56060595  0.43939405]]\n"
     ]
    }
   ],
   "source": [
    "XX4 = sklearn.preprocessing.StandardScaler().fit_transform(X4)\n",
    "logreg = sklearn.linear_model.LogisticRegression(C=gs.best_params_['C'])\n",
    "logreg.fit(XX4, y)\n",
    "\n",
    "XX4_test = sklearn.preprocessing.StandardScaler().fit_transform(X4_test)\n",
    "res = logreg.predict_proba(XX4_test)\n",
    "print(res.min(), res.max())\n",
    "print(res)"
   ]
  },
  {
   "cell_type": "markdown",
   "metadata": {},
   "source": [
    "Результат выглядит адекватным. Он находится на отрезке [0, 1], не совпадают. Минимальное значение 0.0034224716484642093 максимальне 0.99657752835153579"
   ]
  },
  {
   "cell_type": "markdown",
   "metadata": {},
   "source": [
    "## Отчёт по второй части\n",
    "1. Какое качество получилось у логистической регрессии над всеми исходными признаками? Как оно соотносится с качеством градиентного бустинга? Чем можно объяснить эту разницу? Быстрее ли работает логистическая регрессия по сравнению с градиентным бустингом?\n",
    "Наилучшее качетство при С=0.112, оно равно 0.716421655412. Данное значение привосходит результат при градиентном бустинге. \n",
    "Лоигистичесткая регрессия позволяет найти гиперплоскость максимально разделяющую объекты двух классов - она лучше работает когда объекты слабо сгруппированы в пространстве.\n",
    "\n",
    "2. Как влияет на качество логистической регрессии удаление категориальных признаков (укажите новое значение метрики качества)? Чем можно объяснить это изменение?\n",
    "Качество результатов практические не изменилось, т.к. линейная модель плохо работает с категориальными признаками. Исключение данных не повлияло на выборку.\n",
    "\n",
    "3. Сколько различных идентификаторов героев существует в данной игре?\n",
    "Количество уникальных идентификаторов героев в игре: 108\n",
    "\n",
    "4. Какое получилось качество при добавлении \"мешка слов\" по героям? Улучшилось ли оно по сравнению с предыдущим вариантом? Чем можно это объяснить?\n",
    "Качество возросло до 0.751901751325. Поскольку значения классификатора до этого момента перечисленные в задании категориальные признаки не вносили значительного вклада при построении класификатора ввиду особенностей класификатора. Теперь же эти данные адаптированы для использования классификатором.\n",
    "\n",
    "5. Какое минимальное и максимальное значение прогноза на тестовой выборке получилось у лучшего из алгоритмов?\n",
    "Минимальное значение 0.0034224716484642093 максимальне 0.99657752835153579"
   ]
  }
 ],
 "metadata": {
  "kernelspec": {
   "display_name": "Python 2",
   "language": "python",
   "name": "python2"
  },
  "language_info": {
   "codemirror_mode": {
    "name": "ipython",
    "version": 2
   },
   "file_extension": ".py",
   "mimetype": "text/x-python",
   "name": "python",
   "nbconvert_exporter": "python",
   "pygments_lexer": "ipython2",
   "version": "2.7.11"
  }
 },
 "nbformat": 4,
 "nbformat_minor": 0
}
