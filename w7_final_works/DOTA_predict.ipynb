{
 "cells": [
  {
   "cell_type": "markdown",
   "metadata": {},
   "source": [
    "# Data Preparation"
   ]
  },
  {
   "cell_type": "markdown",
   "metadata": {},
   "source": [
    "Read the raw features data."
   ]
  },
  {
   "cell_type": "code",
   "execution_count": 8,
   "metadata": {
    "collapsed": false
   },
   "outputs": [
    {
     "data": {
      "text/html": [
       "<div style=\"max-height:1000px;max-width:1500px;overflow:auto;\">\n",
       "<table border=\"1\" class=\"dataframe\">\n",
       "  <thead>\n",
       "    <tr style=\"text-align: right;\">\n",
       "      <th></th>\n",
       "      <th>start_time</th>\n",
       "      <th>lobby_type</th>\n",
       "      <th>r1_hero</th>\n",
       "      <th>r1_level</th>\n",
       "      <th>r1_xp</th>\n",
       "      <th>r1_gold</th>\n",
       "      <th>r1_lh</th>\n",
       "      <th>r1_kills</th>\n",
       "      <th>r1_deaths</th>\n",
       "      <th>r1_items</th>\n",
       "      <th>...</th>\n",
       "      <th>dire_boots_count</th>\n",
       "      <th>dire_ward_observer_count</th>\n",
       "      <th>dire_ward_sentry_count</th>\n",
       "      <th>dire_first_ward_time</th>\n",
       "      <th>duration</th>\n",
       "      <th>radiant_win</th>\n",
       "      <th>tower_status_radiant</th>\n",
       "      <th>tower_status_dire</th>\n",
       "      <th>barracks_status_radiant</th>\n",
       "      <th>barracks_status_dire</th>\n",
       "    </tr>\n",
       "    <tr>\n",
       "      <th>match_id</th>\n",
       "      <th></th>\n",
       "      <th></th>\n",
       "      <th></th>\n",
       "      <th></th>\n",
       "      <th></th>\n",
       "      <th></th>\n",
       "      <th></th>\n",
       "      <th></th>\n",
       "      <th></th>\n",
       "      <th></th>\n",
       "      <th></th>\n",
       "      <th></th>\n",
       "      <th></th>\n",
       "      <th></th>\n",
       "      <th></th>\n",
       "      <th></th>\n",
       "      <th></th>\n",
       "      <th></th>\n",
       "      <th></th>\n",
       "      <th></th>\n",
       "      <th></th>\n",
       "    </tr>\n",
       "  </thead>\n",
       "  <tbody>\n",
       "    <tr>\n",
       "      <th>0</th>\n",
       "      <td> 1430198770</td>\n",
       "      <td> 7</td>\n",
       "      <td> 11</td>\n",
       "      <td> 5</td>\n",
       "      <td> 2098</td>\n",
       "      <td> 1489</td>\n",
       "      <td> 20</td>\n",
       "      <td> 0</td>\n",
       "      <td> 0</td>\n",
       "      <td>  7</td>\n",
       "      <td>...</td>\n",
       "      <td> 4</td>\n",
       "      <td> 2</td>\n",
       "      <td> 2</td>\n",
       "      <td>-52</td>\n",
       "      <td> 2874</td>\n",
       "      <td> 1</td>\n",
       "      <td> 1796</td>\n",
       "      <td>    0</td>\n",
       "      <td> 51</td>\n",
       "      <td>  0</td>\n",
       "    </tr>\n",
       "    <tr>\n",
       "      <th>1</th>\n",
       "      <td> 1430220345</td>\n",
       "      <td> 0</td>\n",
       "      <td> 42</td>\n",
       "      <td> 4</td>\n",
       "      <td> 1188</td>\n",
       "      <td> 1033</td>\n",
       "      <td>  9</td>\n",
       "      <td> 0</td>\n",
       "      <td> 1</td>\n",
       "      <td> 12</td>\n",
       "      <td>...</td>\n",
       "      <td> 4</td>\n",
       "      <td> 3</td>\n",
       "      <td> 1</td>\n",
       "      <td> -5</td>\n",
       "      <td> 2463</td>\n",
       "      <td> 1</td>\n",
       "      <td> 1974</td>\n",
       "      <td>    0</td>\n",
       "      <td> 63</td>\n",
       "      <td>  1</td>\n",
       "    </tr>\n",
       "    <tr>\n",
       "      <th>2</th>\n",
       "      <td> 1430227081</td>\n",
       "      <td> 7</td>\n",
       "      <td> 33</td>\n",
       "      <td> 4</td>\n",
       "      <td> 1319</td>\n",
       "      <td> 1270</td>\n",
       "      <td> 22</td>\n",
       "      <td> 0</td>\n",
       "      <td> 0</td>\n",
       "      <td> 12</td>\n",
       "      <td>...</td>\n",
       "      <td> 4</td>\n",
       "      <td> 3</td>\n",
       "      <td> 1</td>\n",
       "      <td> 13</td>\n",
       "      <td> 2130</td>\n",
       "      <td> 0</td>\n",
       "      <td>    0</td>\n",
       "      <td> 1830</td>\n",
       "      <td>  0</td>\n",
       "      <td> 63</td>\n",
       "    </tr>\n",
       "    <tr>\n",
       "      <th>3</th>\n",
       "      <td> 1430263531</td>\n",
       "      <td> 1</td>\n",
       "      <td> 29</td>\n",
       "      <td> 4</td>\n",
       "      <td> 1779</td>\n",
       "      <td> 1056</td>\n",
       "      <td> 14</td>\n",
       "      <td> 0</td>\n",
       "      <td> 0</td>\n",
       "      <td>  5</td>\n",
       "      <td>...</td>\n",
       "      <td> 4</td>\n",
       "      <td> 2</td>\n",
       "      <td> 0</td>\n",
       "      <td> 27</td>\n",
       "      <td> 1459</td>\n",
       "      <td> 0</td>\n",
       "      <td> 1920</td>\n",
       "      <td> 2047</td>\n",
       "      <td> 50</td>\n",
       "      <td> 63</td>\n",
       "    </tr>\n",
       "    <tr>\n",
       "      <th>4</th>\n",
       "      <td> 1430282290</td>\n",
       "      <td> 7</td>\n",
       "      <td> 13</td>\n",
       "      <td> 4</td>\n",
       "      <td> 1431</td>\n",
       "      <td> 1090</td>\n",
       "      <td>  8</td>\n",
       "      <td> 1</td>\n",
       "      <td> 0</td>\n",
       "      <td>  8</td>\n",
       "      <td>...</td>\n",
       "      <td> 3</td>\n",
       "      <td> 3</td>\n",
       "      <td> 0</td>\n",
       "      <td>-16</td>\n",
       "      <td> 2449</td>\n",
       "      <td> 0</td>\n",
       "      <td>    4</td>\n",
       "      <td> 1974</td>\n",
       "      <td>  3</td>\n",
       "      <td> 63</td>\n",
       "    </tr>\n",
       "  </tbody>\n",
       "</table>\n",
       "<p>5 rows × 108 columns</p>\n",
       "</div>"
      ],
      "text/plain": [
       "          start_time  lobby_type  r1_hero  r1_level  r1_xp  r1_gold  r1_lh  \\\n",
       "match_id                                                                     \n",
       "0         1430198770           7       11         5   2098     1489     20   \n",
       "1         1430220345           0       42         4   1188     1033      9   \n",
       "2         1430227081           7       33         4   1319     1270     22   \n",
       "3         1430263531           1       29         4   1779     1056     14   \n",
       "4         1430282290           7       13         4   1431     1090      8   \n",
       "\n",
       "          r1_kills  r1_deaths  r1_items          ...           \\\n",
       "match_id                                         ...            \n",
       "0                0          0         7          ...            \n",
       "1                0          1        12          ...            \n",
       "2                0          0        12          ...            \n",
       "3                0          0         5          ...            \n",
       "4                1          0         8          ...            \n",
       "\n",
       "          dire_boots_count  dire_ward_observer_count  dire_ward_sentry_count  \\\n",
       "match_id                                                                       \n",
       "0                        4                         2                       2   \n",
       "1                        4                         3                       1   \n",
       "2                        4                         3                       1   \n",
       "3                        4                         2                       0   \n",
       "4                        3                         3                       0   \n",
       "\n",
       "          dire_first_ward_time  duration  radiant_win  tower_status_radiant  \\\n",
       "match_id                                                                      \n",
       "0                          -52      2874            1                  1796   \n",
       "1                           -5      2463            1                  1974   \n",
       "2                           13      2130            0                     0   \n",
       "3                           27      1459            0                  1920   \n",
       "4                          -16      2449            0                     4   \n",
       "\n",
       "          tower_status_dire  barracks_status_radiant  barracks_status_dire  \n",
       "match_id                                                                    \n",
       "0                         0                       51                     0  \n",
       "1                         0                       63                     1  \n",
       "2                      1830                        0                    63  \n",
       "3                      2047                       50                    63  \n",
       "4                      1974                        3                    63  \n",
       "\n",
       "[5 rows x 108 columns]"
      ]
     },
     "execution_count": 8,
     "metadata": {},
     "output_type": "execute_result"
    }
   ],
   "source": [
    "import pandas\n",
    "raw_features = pandas.read_csv('./features.csv', index_col='match_id')\n",
    "\n",
    "raw_features.head()"
   ]
  },
  {
   "cell_type": "markdown",
   "metadata": {},
   "source": [
    "Split into features and Y."
   ]
  },
  {
   "cell_type": "code",
   "execution_count": 9,
   "metadata": {
    "collapsed": false
   },
   "outputs": [
    {
     "data": {
      "text/html": [
       "<div style=\"max-height:1000px;max-width:1500px;overflow:auto;\">\n",
       "<table border=\"1\" class=\"dataframe\">\n",
       "  <thead>\n",
       "    <tr style=\"text-align: right;\">\n",
       "      <th></th>\n",
       "      <th>start_time</th>\n",
       "      <th>lobby_type</th>\n",
       "      <th>r1_hero</th>\n",
       "      <th>r1_level</th>\n",
       "      <th>r1_xp</th>\n",
       "      <th>r1_gold</th>\n",
       "      <th>r1_lh</th>\n",
       "      <th>r1_kills</th>\n",
       "      <th>r1_deaths</th>\n",
       "      <th>r1_items</th>\n",
       "      <th>...</th>\n",
       "      <th>radiant_ward_sentry_count</th>\n",
       "      <th>radiant_first_ward_time</th>\n",
       "      <th>dire_bottle_time</th>\n",
       "      <th>dire_courier_time</th>\n",
       "      <th>dire_flying_courier_time</th>\n",
       "      <th>dire_tpscroll_count</th>\n",
       "      <th>dire_boots_count</th>\n",
       "      <th>dire_ward_observer_count</th>\n",
       "      <th>dire_ward_sentry_count</th>\n",
       "      <th>dire_first_ward_time</th>\n",
       "    </tr>\n",
       "    <tr>\n",
       "      <th>match_id</th>\n",
       "      <th></th>\n",
       "      <th></th>\n",
       "      <th></th>\n",
       "      <th></th>\n",
       "      <th></th>\n",
       "      <th></th>\n",
       "      <th></th>\n",
       "      <th></th>\n",
       "      <th></th>\n",
       "      <th></th>\n",
       "      <th></th>\n",
       "      <th></th>\n",
       "      <th></th>\n",
       "      <th></th>\n",
       "      <th></th>\n",
       "      <th></th>\n",
       "      <th></th>\n",
       "      <th></th>\n",
       "      <th></th>\n",
       "      <th></th>\n",
       "      <th></th>\n",
       "    </tr>\n",
       "  </thead>\n",
       "  <tbody>\n",
       "    <tr>\n",
       "      <th>0</th>\n",
       "      <td> 1430198770</td>\n",
       "      <td> 7</td>\n",
       "      <td> 11</td>\n",
       "      <td> 5</td>\n",
       "      <td> 2098</td>\n",
       "      <td> 1489</td>\n",
       "      <td> 20</td>\n",
       "      <td> 0</td>\n",
       "      <td> 0</td>\n",
       "      <td>  7</td>\n",
       "      <td>...</td>\n",
       "      <td> 0</td>\n",
       "      <td> 35</td>\n",
       "      <td> 103</td>\n",
       "      <td>-84</td>\n",
       "      <td> 221</td>\n",
       "      <td> 3</td>\n",
       "      <td> 4</td>\n",
       "      <td> 2</td>\n",
       "      <td> 2</td>\n",
       "      <td>-52</td>\n",
       "    </tr>\n",
       "    <tr>\n",
       "      <th>1</th>\n",
       "      <td> 1430220345</td>\n",
       "      <td> 0</td>\n",
       "      <td> 42</td>\n",
       "      <td> 4</td>\n",
       "      <td> 1188</td>\n",
       "      <td> 1033</td>\n",
       "      <td>  9</td>\n",
       "      <td> 0</td>\n",
       "      <td> 1</td>\n",
       "      <td> 12</td>\n",
       "      <td>...</td>\n",
       "      <td> 0</td>\n",
       "      <td>-20</td>\n",
       "      <td> 149</td>\n",
       "      <td>-84</td>\n",
       "      <td> 195</td>\n",
       "      <td> 5</td>\n",
       "      <td> 4</td>\n",
       "      <td> 3</td>\n",
       "      <td> 1</td>\n",
       "      <td> -5</td>\n",
       "    </tr>\n",
       "    <tr>\n",
       "      <th>2</th>\n",
       "      <td> 1430227081</td>\n",
       "      <td> 7</td>\n",
       "      <td> 33</td>\n",
       "      <td> 4</td>\n",
       "      <td> 1319</td>\n",
       "      <td> 1270</td>\n",
       "      <td> 22</td>\n",
       "      <td> 0</td>\n",
       "      <td> 0</td>\n",
       "      <td> 12</td>\n",
       "      <td>...</td>\n",
       "      <td> 1</td>\n",
       "      <td>-39</td>\n",
       "      <td>  45</td>\n",
       "      <td>-77</td>\n",
       "      <td> 221</td>\n",
       "      <td> 3</td>\n",
       "      <td> 4</td>\n",
       "      <td> 3</td>\n",
       "      <td> 1</td>\n",
       "      <td> 13</td>\n",
       "    </tr>\n",
       "    <tr>\n",
       "      <th>3</th>\n",
       "      <td> 1430263531</td>\n",
       "      <td> 1</td>\n",
       "      <td> 29</td>\n",
       "      <td> 4</td>\n",
       "      <td> 1779</td>\n",
       "      <td> 1056</td>\n",
       "      <td> 14</td>\n",
       "      <td> 0</td>\n",
       "      <td> 0</td>\n",
       "      <td>  5</td>\n",
       "      <td>...</td>\n",
       "      <td> 0</td>\n",
       "      <td>-30</td>\n",
       "      <td> 124</td>\n",
       "      <td>-80</td>\n",
       "      <td> 184</td>\n",
       "      <td> 0</td>\n",
       "      <td> 4</td>\n",
       "      <td> 2</td>\n",
       "      <td> 0</td>\n",
       "      <td> 27</td>\n",
       "    </tr>\n",
       "    <tr>\n",
       "      <th>4</th>\n",
       "      <td> 1430282290</td>\n",
       "      <td> 7</td>\n",
       "      <td> 13</td>\n",
       "      <td> 4</td>\n",
       "      <td> 1431</td>\n",
       "      <td> 1090</td>\n",
       "      <td>  8</td>\n",
       "      <td> 1</td>\n",
       "      <td> 0</td>\n",
       "      <td>  8</td>\n",
       "      <td>...</td>\n",
       "      <td> 0</td>\n",
       "      <td> 46</td>\n",
       "      <td> 182</td>\n",
       "      <td>-80</td>\n",
       "      <td> 225</td>\n",
       "      <td> 6</td>\n",
       "      <td> 3</td>\n",
       "      <td> 3</td>\n",
       "      <td> 0</td>\n",
       "      <td>-16</td>\n",
       "    </tr>\n",
       "  </tbody>\n",
       "</table>\n",
       "<p>5 rows × 102 columns</p>\n",
       "</div>"
      ],
      "text/plain": [
       "          start_time  lobby_type  r1_hero  r1_level  r1_xp  r1_gold  r1_lh  \\\n",
       "match_id                                                                     \n",
       "0         1430198770           7       11         5   2098     1489     20   \n",
       "1         1430220345           0       42         4   1188     1033      9   \n",
       "2         1430227081           7       33         4   1319     1270     22   \n",
       "3         1430263531           1       29         4   1779     1056     14   \n",
       "4         1430282290           7       13         4   1431     1090      8   \n",
       "\n",
       "          r1_kills  r1_deaths  r1_items          ...           \\\n",
       "match_id                                         ...            \n",
       "0                0          0         7          ...            \n",
       "1                0          1        12          ...            \n",
       "2                0          0        12          ...            \n",
       "3                0          0         5          ...            \n",
       "4                1          0         8          ...            \n",
       "\n",
       "          radiant_ward_sentry_count  radiant_first_ward_time  \\\n",
       "match_id                                                       \n",
       "0                                 0                       35   \n",
       "1                                 0                      -20   \n",
       "2                                 1                      -39   \n",
       "3                                 0                      -30   \n",
       "4                                 0                       46   \n",
       "\n",
       "          dire_bottle_time  dire_courier_time  dire_flying_courier_time  \\\n",
       "match_id                                                                  \n",
       "0                      103                -84                       221   \n",
       "1                      149                -84                       195   \n",
       "2                       45                -77                       221   \n",
       "3                      124                -80                       184   \n",
       "4                      182                -80                       225   \n",
       "\n",
       "          dire_tpscroll_count  dire_boots_count  dire_ward_observer_count  \\\n",
       "match_id                                                                    \n",
       "0                           3                 4                         2   \n",
       "1                           5                 4                         3   \n",
       "2                           3                 4                         3   \n",
       "3                           0                 4                         2   \n",
       "4                           6                 3                         3   \n",
       "\n",
       "          dire_ward_sentry_count  dire_first_ward_time  \n",
       "match_id                                                \n",
       "0                              2                   -52  \n",
       "1                              1                    -5  \n",
       "2                              1                    13  \n",
       "3                              0                    27  \n",
       "4                              0                   -16  \n",
       "\n",
       "[5 rows x 102 columns]"
      ]
     },
     "execution_count": 9,
     "metadata": {},
     "output_type": "execute_result"
    }
   ],
   "source": [
    "Y = raw_features.iloc[:,-5]\n",
    "features = raw_features.iloc[:,0:-6]\n",
    "features.head()"
   ]
  },
  {
   "cell_type": "code",
   "execution_count": 10,
   "metadata": {
    "collapsed": false
   },
   "outputs": [
    {
     "data": {
      "text/plain": [
       "(97230, 102)"
      ]
     },
     "execution_count": 10,
     "metadata": {},
     "output_type": "execute_result"
    }
   ],
   "source": [
    "features.shape"
   ]
  },
  {
   "cell_type": "markdown",
   "metadata": {},
   "source": [
    "Now find features with the biggest number of empty values."
   ]
  },
  {
   "cell_type": "code",
   "execution_count": 11,
   "metadata": {
    "collapsed": false
   },
   "outputs": [
    {
     "data": {
      "text/plain": [
       "first_blood_player2            53243\n",
       "radiant_flying_courier_time    69751\n",
       "dire_flying_courier_time       71132\n",
       "first_blood_time               77677\n",
       "first_blood_team               77677\n",
       "first_blood_player1            77677\n",
       "dire_bottle_time               81087\n",
       "radiant_bottle_time            81539\n",
       "radiant_first_ward_time        95394\n",
       "dire_first_ward_time           95404\n",
       "radiant_courier_time           96538\n",
       "dire_courier_time              96554\n",
       "start_time                     97230\n",
       "lobby_type                     97230\n",
       "r1_hero                        97230\n",
       "dtype: int64"
      ]
     },
     "execution_count": 11,
     "metadata": {},
     "output_type": "execute_result"
    }
   ],
   "source": [
    "features.count().nsmallest(15)"
   ]
  },
  {
   "cell_type": "markdown",
   "metadata": {},
   "source": [
    "The `first_blood_player2` has many empty values because it is the index of the second participant in the first blood event. Many such events have only one killer. Also, other `first_blood_*` features are also frequently absent because the first blood happened after the first 5 minutes of the game.\n",
    "\n",
    "The `*_courier_time` features contain empty values because couriers, especially flying, are used either later in the game or not at all."
   ]
  },
  {
   "cell_type": "code",
   "execution_count": 12,
   "metadata": {
    "collapsed": false
   },
   "outputs": [],
   "source": [
    "features.fillna(0, inplace=True)"
   ]
  },
  {
   "cell_type": "markdown",
   "metadata": {},
   "source": [
    "The target variable is contained in the `radiant_win` column but we already separated it into Y."
   ]
  },
  {
   "cell_type": "markdown",
   "metadata": {},
   "source": [
    "# Gradient Boosting\n",
    "Let us cross-validate gdb classifiers for a series of `n_estimators` values."
   ]
  },
  {
   "cell_type": "code",
   "execution_count": 13,
   "metadata": {
    "collapsed": false
   },
   "outputs": [
    {
     "name": "stdout",
     "output_type": "stream",
     "text": [
      "Score for 5 estimators: \n",
      "0.636713763037\n",
      "Score for 10 estimators: \n",
      "0.664987297487\n",
      "Score for 20 estimators: \n",
      "0.682091950596\n",
      "Score for 30 estimators: \n",
      "0.689763636223\n",
      "Cross validation took:  0:01:35.573233\n",
      "Score for 40 estimators: \n",
      "0.694200742109\n",
      "Score for 50 estimators: \n",
      "0.697590357868\n"
     ]
    }
   ],
   "source": [
    "from sklearn.metrics import roc_auc_score\n",
    "from sklearn import cross_validation\n",
    "from sklearn.cross_validation import KFold\n",
    "from sklearn.ensemble import GradientBoostingClassifier\n",
    "\n",
    "import time\n",
    "import datetime\n",
    "\n",
    "kf = KFold(len(Y), 5, shuffle=True)\n",
    "\n",
    "print \"Score for 5 estimators: \"\n",
    "print cross_validation.cross_val_score(GradientBoostingClassifier(n_estimators=5, verbose=False),\n",
    "                                 features, Y, scoring='roc_auc', n_jobs=-1, cv=kf).mean()\n",
    "\n",
    "print \"Score for 10 estimators: \"\n",
    "print cross_validation.cross_val_score(GradientBoostingClassifier(n_estimators=10, verbose=False),\n",
    "                                 features, Y, scoring='roc_auc', n_jobs=-1, cv=kf).mean()\n",
    "\n",
    "print \"Score for 20 estimators: \"\n",
    "print cross_validation.cross_val_score(GradientBoostingClassifier(n_estimators=20, verbose=False),\n",
    "                                 features, Y, scoring='roc_auc', n_jobs=-1, cv=kf).mean()\n",
    "\n",
    "start_time = datetime.datetime.now()\n",
    "print \"Score for 30 estimators: \"\n",
    "print cross_validation.cross_val_score(GradientBoostingClassifier(n_estimators=30, verbose=False),\n",
    "                                 features, Y, scoring='roc_auc', n_jobs=-1, cv=kf).mean()\n",
    "print 'Cross validation took: ', datetime.datetime.now() - start_time\n",
    "\n",
    "print \"Score for 40 estimators: \"\n",
    "print cross_validation.cross_val_score(GradientBoostingClassifier(n_estimators=40, verbose=False),\n",
    "                                 features, Y, scoring='roc_auc', n_jobs=-1, cv=kf).mean()\n",
    "\n",
    "print \"Score for 50 estimators: \"\n",
    "print cross_validation.cross_val_score(GradientBoostingClassifier(n_estimators=50, verbose=False),\n",
    "                                 features, Y, scoring='roc_auc', n_jobs=-1, cv=kf).mean()"
   ]
  },
  {
   "cell_type": "markdown",
   "metadata": {},
   "source": [
    "So, with Gradient Boosting on 30 trees we spent 1 minute 37 seconds on cross-validation. The mean ROC-AUC we ended up with was ~0.6898.\n",
    "\n",
    "Increasing the number of trees still lends some improvements in the score metric although at great costs. There might be a number of methods to decrease the performance cost such as using subsets of the training set or implementing a simpler version of the trees in the leafs (see MatrixNet). Still, for this particular task we do not need any extreme measures, it is completely feasible for modern hardware."
   ]
  },
  {
   "cell_type": "markdown",
   "metadata": {},
   "source": [
    "# Logistic Regression"
   ]
  },
  {
   "cell_type": "markdown",
   "metadata": {},
   "source": [
    "First attempt is made without any additional preprocessing. The results are pretty bad and the mean score does not change with C. The score is ~0.5134 and it is worse than what we got with gradient boosting. Looking at features we may hypothesize on the reasons. For example, the column with unix timestamp looks like something that should break linear models. On the other hand, the logistic regression is trained faster than gradient boosting based one."
   ]
  },
  {
   "cell_type": "code",
   "execution_count": 14,
   "metadata": {
    "collapsed": false
   },
   "outputs": [
    {
     "name": "stdout",
     "output_type": "stream",
     "text": [
      "C =  1e-05 score =  0.513439205165\n",
      "C =  0.001 score =  0.513439205165\n",
      "C =  0.1 score =  0.513439205165\n",
      "C =  1 score =  0.513439205165\n",
      "C =  1000 score =  0.513439205165\n"
     ]
    }
   ],
   "source": [
    "from sklearn.linear_model import LogisticRegression\n",
    "\n",
    "for c in [0.00001, 0.001, 0.1, 1, 1000]:\n",
    "    print \"C = \", c, \"score = \", cross_validation.cross_val_score(LogisticRegression(C=c),\n",
    "                                 features, Y, scoring='roc_auc', n_jobs=-1, cv=kf).mean()"
   ]
  },
  {
   "cell_type": "markdown",
   "metadata": {},
   "source": [
    "Now, let us scale features with `StandardScaler`."
   ]
  },
  {
   "cell_type": "code",
   "execution_count": 15,
   "metadata": {
    "collapsed": false
   },
   "outputs": [
    {
     "name": "stdout",
     "output_type": "stream",
     "text": [
      "C =  1e-05 score =  0.695047248974\n",
      "C =  0.001 score =  0.716120783765\n",
      "C =  0.007 score =  0.716334855591\n",
      "C =  0.009 score =  0.716331564204\n",
      "C =  0.01 score =  0.716329402709\n",
      "C =  0.02 score =  0.716320903531\n",
      "C =  0.1 score =  0.716310159799\n",
      "C =  1 score =  0.716307674132\n",
      "C =  1000 score =  0.716307319379\n"
     ]
    }
   ],
   "source": [
    "from sklearn.preprocessing import StandardScaler\n",
    "\n",
    "features_scaled = StandardScaler().fit_transform(features)\n",
    "\n",
    "for c in [0.00001, 0.001, 0.007, 0.009, 0.01, 0.02, 0.1, 1, 1000]:\n",
    "    print \"C = \", c, \"score = \", cross_validation.cross_val_score(LogisticRegression(C=c),\n",
    "                                 features_scaled, Y, scoring='roc_auc', n_jobs=-1, cv=kf).mean()"
   ]
  },
  {
   "cell_type": "markdown",
   "metadata": {},
   "source": [
    "Looks much more interesting. Max score: 0.716334 for C = 0.007. Let us remove some features altogether. We start with `start_time` just as an experiment."
   ]
  },
  {
   "cell_type": "code",
   "execution_count": 16,
   "metadata": {
    "collapsed": false
   },
   "outputs": [
    {
     "name": "stdout",
     "output_type": "stream",
     "text": [
      "C =  0.0045 score =  0.716221581312\n",
      "C =  0.0046 score =  0.716221695173\n",
      "C =  0.0047 score =  0.716222170967\n",
      "C =  0.0048 score =  0.716222291128\n",
      "C =  0.0049 score =  0.716222912598\n",
      "C =  0.005 score =  0.716222405203\n",
      "C =  0.0051 score =  0.716222607243\n",
      "C =  0.0052 score =  0.716222842359\n",
      "C =  0.0053 score =  0.716222067245\n",
      "C =  0.0054 score =  0.71622200561\n"
     ]
    }
   ],
   "source": [
    "filtered_features = features.drop(['start_time'], axis=1)\n",
    "\n",
    "features_scaled = StandardScaler().fit_transform(filtered_features)\n",
    "\n",
    "import numpy as np\n",
    "\n",
    "for c in np.arange(0.0045, 0.0055, 0.0001):\n",
    "    print \"C = \", c, \"score = \", cross_validation.cross_val_score(LogisticRegression(C=c),\n",
    "                                 features_scaled, Y, scoring='roc_auc', n_jobs=-1, cv=kf).mean()"
   ]
  },
  {
   "cell_type": "markdown",
   "metadata": {},
   "source": [
    "Now, we remove all features that are really just categories."
   ]
  },
  {
   "cell_type": "code",
   "execution_count": 17,
   "metadata": {
    "collapsed": false
   },
   "outputs": [
    {
     "data": {
      "text/plain": [
       "array([12718, 55962,     0,     0,     0,     0,     0, 28550])"
      ]
     },
     "execution_count": 17,
     "metadata": {},
     "output_type": "execute_result"
    }
   ],
   "source": [
    "np.bincount(features['lobby_type'])"
   ]
  },
  {
   "cell_type": "code",
   "execution_count": 18,
   "metadata": {
    "collapsed": false
   },
   "outputs": [
    {
     "name": "stdout",
     "output_type": "stream",
     "text": [
      "C =  0.0044 score =  0.716384925404\n",
      "C =  0.0046 score =  0.716384292141\n",
      "C =  0.0048 score =  0.716385057196\n",
      "C =  0.005 score =  0.716385242938\n",
      "C =  0.0052 score =  0.716385190283\n",
      "C =  0.0054 score =  0.716385514808\n"
     ]
    }
   ],
   "source": [
    "filtered_features = features.drop(['lobby_type',\n",
    "                                   'r1_hero', 'r2_hero', 'r3_hero', 'r4_hero', 'r5_hero',\n",
    "                                   'd1_hero', 'd2_hero', 'd3_hero', 'd4_hero', 'd5_hero'], axis=1)\n",
    "\n",
    "features_scaled = StandardScaler().fit_transform(filtered_features)\n",
    "\n",
    "for c in np.arange(0.0044, 0.0055, 0.0002):\n",
    "    print \"C = \", c, \"score = \", cross_validation.cross_val_score(LogisticRegression(C=c),\n",
    "                                 features_scaled, Y, scoring='roc_auc', n_jobs=-1, cv=kf).mean()"
   ]
  },
  {
   "cell_type": "markdown",
   "metadata": {},
   "source": [
    "The maximum score we reach here is 0.7163852 which looks fine in comparison. Linear models usually have problems deriving coefficients for features that are not really quantitative.\n",
    "\n",
    "Let us try to still take heroes into account because they should actually matter."
   ]
  },
  {
   "cell_type": "code",
   "execution_count": 127,
   "metadata": {
    "collapsed": false
   },
   "outputs": [
    {
     "name": "stdout",
     "output_type": "stream",
     "text": [
      "Unique heroes in the set:  108\n",
      "Max hero num:  112\n"
     ]
    }
   ],
   "source": [
    "heroes = features[['r1_hero', 'r2_hero', 'r3_hero', 'r4_hero', 'r5_hero',\n",
    "                   'd1_hero', 'd2_hero', 'd3_hero', 'd4_hero', 'd5_hero']]\n",
    "n_heroes = np.unique(heroes.values).size\n",
    "print \"Unique heroes in the set: \", n_heroes\n",
    "print \"Max hero num: \", np.max(heroes.values)"
   ]
  },
  {
   "cell_type": "markdown",
   "metadata": {},
   "source": [
    "We now create artificial features for hero types."
   ]
  },
  {
   "cell_type": "code",
   "execution_count": 104,
   "metadata": {
    "collapsed": false
   },
   "outputs": [
    {
     "data": {
      "text/plain": [
       "array([[ 0.,  0.,  0., ...,  0.,  0.,  0.],\n",
       "       [ 0.,  0.,  0., ...,  0.,  0.,  0.],\n",
       "       [ 0.,  0.,  0., ...,  0.,  0.,  0.],\n",
       "       ..., \n",
       "       [ 0.,  0.,  0., ...,  0.,  0.,  1.],\n",
       "       [ 0.,  0.,  0., ...,  0.,  0.,  0.],\n",
       "       [ 0.,  0.,  0., ...,  0.,  0., -1.]])"
      ]
     },
     "execution_count": 104,
     "metadata": {},
     "output_type": "execute_result"
    }
   ],
   "source": [
    "X_pick = np.zeros((features.shape[0], 112))\n",
    "\n",
    "for i, match_id in enumerate(features.index):\n",
    "    for p in xrange(5):\n",
    "        X_pick[i, features.ix[match_id, 'r%d_hero' % (p+1)]-1] = 1\n",
    "        X_pick[i, features.ix[match_id, 'd%d_hero' % (p+1)]-1] = -1\n",
    "        \n",
    "X_pick"
   ]
  },
  {
   "cell_type": "code",
   "execution_count": 98,
   "metadata": {
    "collapsed": false
   },
   "outputs": [
    {
     "name": "stdout",
     "output_type": "stream",
     "text": [
      " C =  0.01 score =  0.751439124899\n",
      "C =  0.02 score =  0.751615948993\n",
      "C =  0.03 score =  0.75164870469\n",
      "C =  0.04 score =  0.751656588786\n",
      "C =  0.05 score =  0.751657995652\n",
      "C =  0.06 score =  0.751658637959\n",
      "C =  0.07 score =  0.751656647084\n",
      "C =  0.08 score =  0.751656202837\n",
      "C =  0.09 score =  0.751655450562\n",
      "C =  0.1 score =  0.751653122734\n",
      "C =  0.11 score =  0.751652312884\n",
      "C =  0.12 score =  0.751651420426\n",
      "C =  0.13 score =  0.751650816038\n",
      "C =  0.14 score =  0.751650187279\n",
      "C =  0.15 score =  0.751648859203\n",
      "C =  0.16 score =  0.751647857439\n",
      "C =  0.17 score =  0.751647887274\n",
      "C =  0.18 score =  0.75164721156\n",
      "C =  0.19 score =  0.751647077181\n"
     ]
    }
   ],
   "source": [
    "filtered_features = features.drop(['start_time', 'lobby_type',\n",
    "                                   'r1_hero', 'r2_hero', 'r3_hero', 'r4_hero', 'r5_hero',\n",
    "                                   'd1_hero', 'd2_hero', 'd3_hero', 'd4_hero', 'd5_hero'], axis=1)\n",
    "\n",
    "features_scaled = StandardScaler().fit_transform(filtered_features)\n",
    "\n",
    "for c in np.arange(0.01, 0.2, 0.01):\n",
    "    print \"C = \", c, \"score = \", cross_validation.cross_val_score(LogisticRegression(C=c),\n",
    "                                 np.hstack((features_scaled, X_pick)), Y, scoring='roc_auc', n_jobs=-1, cv=kf).mean()"
   ]
  },
  {
   "cell_type": "markdown",
   "metadata": {},
   "source": [
    "Adding a huge number of features that are derived from the hero identifiers using the \"bag of words\" method greatly increases the quality. Let's settle on the `C=0.06` (score: 0.7516586) and generate the results for Kaggle submission!"
   ]
  },
  {
   "cell_type": "code",
   "execution_count": 105,
   "metadata": {
    "collapsed": false
   },
   "outputs": [
    {
     "data": {
      "text/plain": [
       "LogisticRegression(C=0.06, class_weight=None, dual=False, fit_intercept=True,\n",
       "          intercept_scaling=1, max_iter=100, multi_class='ovr',\n",
       "          penalty='l2', random_state=None, solver='liblinear', tol=0.0001,\n",
       "          verbose=0)"
      ]
     },
     "execution_count": 105,
     "metadata": {},
     "output_type": "execute_result"
    }
   ],
   "source": [
    "best_clf = LogisticRegression(C=0.06)\n",
    "best_clf.fit(np.hstack((features_scaled, X_pick)), Y)"
   ]
  },
  {
   "cell_type": "markdown",
   "metadata": {},
   "source": [
    "To summarize, the logistic regression based classifier seems to perform better than the naive version of the GdB and also the training is much faster. "
   ]
  },
  {
   "cell_type": "markdown",
   "metadata": {},
   "source": [
    "# Processing the Test Set"
   ]
  },
  {
   "cell_type": "code",
   "execution_count": 99,
   "metadata": {
    "collapsed": false
   },
   "outputs": [
    {
     "data": {
      "text/html": [
       "<div style=\"max-height:1000px;max-width:1500px;overflow:auto;\">\n",
       "<table border=\"1\" class=\"dataframe\">\n",
       "  <thead>\n",
       "    <tr style=\"text-align: right;\">\n",
       "      <th></th>\n",
       "      <th>start_time</th>\n",
       "      <th>lobby_type</th>\n",
       "      <th>r1_hero</th>\n",
       "      <th>r1_level</th>\n",
       "      <th>r1_xp</th>\n",
       "      <th>r1_gold</th>\n",
       "      <th>r1_lh</th>\n",
       "      <th>r1_kills</th>\n",
       "      <th>r1_deaths</th>\n",
       "      <th>r1_items</th>\n",
       "      <th>...</th>\n",
       "      <th>radiant_ward_sentry_count</th>\n",
       "      <th>radiant_first_ward_time</th>\n",
       "      <th>dire_bottle_time</th>\n",
       "      <th>dire_courier_time</th>\n",
       "      <th>dire_flying_courier_time</th>\n",
       "      <th>dire_tpscroll_count</th>\n",
       "      <th>dire_boots_count</th>\n",
       "      <th>dire_ward_observer_count</th>\n",
       "      <th>dire_ward_sentry_count</th>\n",
       "      <th>dire_first_ward_time</th>\n",
       "    </tr>\n",
       "    <tr>\n",
       "      <th>match_id</th>\n",
       "      <th></th>\n",
       "      <th></th>\n",
       "      <th></th>\n",
       "      <th></th>\n",
       "      <th></th>\n",
       "      <th></th>\n",
       "      <th></th>\n",
       "      <th></th>\n",
       "      <th></th>\n",
       "      <th></th>\n",
       "      <th></th>\n",
       "      <th></th>\n",
       "      <th></th>\n",
       "      <th></th>\n",
       "      <th></th>\n",
       "      <th></th>\n",
       "      <th></th>\n",
       "      <th></th>\n",
       "      <th></th>\n",
       "      <th></th>\n",
       "      <th></th>\n",
       "    </tr>\n",
       "  </thead>\n",
       "  <tbody>\n",
       "    <tr>\n",
       "      <th>6 </th>\n",
       "      <td> 1430287923</td>\n",
       "      <td> 0</td>\n",
       "      <td>  93</td>\n",
       "      <td> 4</td>\n",
       "      <td> 1103</td>\n",
       "      <td> 1089</td>\n",
       "      <td> 8</td>\n",
       "      <td> 0</td>\n",
       "      <td> 1</td>\n",
       "      <td>  9</td>\n",
       "      <td>...</td>\n",
       "      <td> 0</td>\n",
       "      <td> 12</td>\n",
       "      <td> 247</td>\n",
       "      <td>-86</td>\n",
       "      <td> 272</td>\n",
       "      <td> 3</td>\n",
       "      <td> 4</td>\n",
       "      <td> 2</td>\n",
       "      <td> 0</td>\n",
       "      <td> 118</td>\n",
       "    </tr>\n",
       "    <tr>\n",
       "      <th>7 </th>\n",
       "      <td> 1430293357</td>\n",
       "      <td> 1</td>\n",
       "      <td>  20</td>\n",
       "      <td> 2</td>\n",
       "      <td>  556</td>\n",
       "      <td>  570</td>\n",
       "      <td> 1</td>\n",
       "      <td> 0</td>\n",
       "      <td> 0</td>\n",
       "      <td>  9</td>\n",
       "      <td>...</td>\n",
       "      <td> 2</td>\n",
       "      <td>-29</td>\n",
       "      <td> 168</td>\n",
       "      <td>-54</td>\n",
       "      <td> NaN</td>\n",
       "      <td> 3</td>\n",
       "      <td> 2</td>\n",
       "      <td> 2</td>\n",
       "      <td> 1</td>\n",
       "      <td>  16</td>\n",
       "    </tr>\n",
       "    <tr>\n",
       "      <th>10</th>\n",
       "      <td> 1430301774</td>\n",
       "      <td> 1</td>\n",
       "      <td> 112</td>\n",
       "      <td> 2</td>\n",
       "      <td>  751</td>\n",
       "      <td>  808</td>\n",
       "      <td> 1</td>\n",
       "      <td> 0</td>\n",
       "      <td> 0</td>\n",
       "      <td> 13</td>\n",
       "      <td>...</td>\n",
       "      <td> 1</td>\n",
       "      <td>-22</td>\n",
       "      <td>  46</td>\n",
       "      <td>-87</td>\n",
       "      <td> 186</td>\n",
       "      <td> 1</td>\n",
       "      <td> 3</td>\n",
       "      <td> 3</td>\n",
       "      <td> 0</td>\n",
       "      <td> -34</td>\n",
       "    </tr>\n",
       "    <tr>\n",
       "      <th>13</th>\n",
       "      <td> 1430323933</td>\n",
       "      <td> 1</td>\n",
       "      <td>  27</td>\n",
       "      <td> 3</td>\n",
       "      <td>  708</td>\n",
       "      <td>  903</td>\n",
       "      <td> 1</td>\n",
       "      <td> 1</td>\n",
       "      <td> 1</td>\n",
       "      <td> 11</td>\n",
       "      <td>...</td>\n",
       "      <td> 2</td>\n",
       "      <td>-49</td>\n",
       "      <td>  30</td>\n",
       "      <td>-89</td>\n",
       "      <td> 210</td>\n",
       "      <td> 3</td>\n",
       "      <td> 4</td>\n",
       "      <td> 2</td>\n",
       "      <td> 1</td>\n",
       "      <td> -26</td>\n",
       "    </tr>\n",
       "    <tr>\n",
       "      <th>16</th>\n",
       "      <td> 1430331112</td>\n",
       "      <td> 1</td>\n",
       "      <td>  39</td>\n",
       "      <td> 4</td>\n",
       "      <td> 1259</td>\n",
       "      <td>  661</td>\n",
       "      <td> 4</td>\n",
       "      <td> 0</td>\n",
       "      <td> 0</td>\n",
       "      <td>  9</td>\n",
       "      <td>...</td>\n",
       "      <td> 0</td>\n",
       "      <td> 36</td>\n",
       "      <td> 180</td>\n",
       "      <td>-86</td>\n",
       "      <td> 180</td>\n",
       "      <td> 1</td>\n",
       "      <td> 3</td>\n",
       "      <td> 2</td>\n",
       "      <td> 1</td>\n",
       "      <td> -33</td>\n",
       "    </tr>\n",
       "  </tbody>\n",
       "</table>\n",
       "<p>5 rows × 102 columns</p>\n",
       "</div>"
      ],
      "text/plain": [
       "          start_time  lobby_type  r1_hero  r1_level  r1_xp  r1_gold  r1_lh  \\\n",
       "match_id                                                                     \n",
       "6         1430287923           0       93         4   1103     1089      8   \n",
       "7         1430293357           1       20         2    556      570      1   \n",
       "10        1430301774           1      112         2    751      808      1   \n",
       "13        1430323933           1       27         3    708      903      1   \n",
       "16        1430331112           1       39         4   1259      661      4   \n",
       "\n",
       "          r1_kills  r1_deaths  r1_items          ...           \\\n",
       "match_id                                         ...            \n",
       "6                0          1         9          ...            \n",
       "7                0          0         9          ...            \n",
       "10               0          0        13          ...            \n",
       "13               1          1        11          ...            \n",
       "16               0          0         9          ...            \n",
       "\n",
       "          radiant_ward_sentry_count  radiant_first_ward_time  \\\n",
       "match_id                                                       \n",
       "6                                 0                       12   \n",
       "7                                 2                      -29   \n",
       "10                                1                      -22   \n",
       "13                                2                      -49   \n",
       "16                                0                       36   \n",
       "\n",
       "          dire_bottle_time  dire_courier_time  dire_flying_courier_time  \\\n",
       "match_id                                                                  \n",
       "6                      247                -86                       272   \n",
       "7                      168                -54                       NaN   \n",
       "10                      46                -87                       186   \n",
       "13                      30                -89                       210   \n",
       "16                     180                -86                       180   \n",
       "\n",
       "          dire_tpscroll_count  dire_boots_count  dire_ward_observer_count  \\\n",
       "match_id                                                                    \n",
       "6                           3                 4                         2   \n",
       "7                           3                 2                         2   \n",
       "10                          1                 3                         3   \n",
       "13                          3                 4                         2   \n",
       "16                          1                 3                         2   \n",
       "\n",
       "          dire_ward_sentry_count  dire_first_ward_time  \n",
       "match_id                                                \n",
       "6                              0                   118  \n",
       "7                              1                    16  \n",
       "10                             0                   -34  \n",
       "13                             1                   -26  \n",
       "16                             1                   -33  \n",
       "\n",
       "[5 rows x 102 columns]"
      ]
     },
     "execution_count": 99,
     "metadata": {},
     "output_type": "execute_result"
    }
   ],
   "source": [
    "raw_test = pandas.read_csv('./features_test.csv', index_col='match_id')\n",
    "raw_test.head()"
   ]
  },
  {
   "cell_type": "code",
   "execution_count": 108,
   "metadata": {
    "collapsed": false
   },
   "outputs": [
    {
     "name": "stdout",
     "output_type": "stream",
     "text": [
      "0.996580326628 0.0084814893426\n"
     ]
    }
   ],
   "source": [
    "test = raw_test.fillna(0)\n",
    "\n",
    "test_pick = np.zeros((test.shape[0], 112))\n",
    "\n",
    "for i, match_id in enumerate(test.index):\n",
    "    for p in xrange(5):\n",
    "        test_pick[i, test.ix[match_id, 'r%d_hero' % (p+1)]-1] = 1\n",
    "        test_pick[i, test.ix[match_id, 'd%d_hero' % (p+1)]-1] = -1\n",
    "\n",
    "filtered_test = test.drop(['start_time', 'lobby_type',\n",
    "                                   'r1_hero', 'r2_hero', 'r3_hero', 'r4_hero', 'r5_hero',\n",
    "                                   'd1_hero', 'd2_hero', 'd3_hero', 'd4_hero', 'd5_hero'], axis=1)\n",
    "\n",
    "test_scaled = StandardScaler().fit_transform(filtered_test)\n",
    "        \n",
    "radiant_probs = best_clf.predict_proba(np.hstack((test_scaled, test_pick)))[:, 1]\n",
    "print np.max(radiant_probs), np.min(radiant_probs)"
   ]
  },
  {
   "cell_type": "code",
   "execution_count": 123,
   "metadata": {
    "collapsed": false
   },
   "outputs": [
    {
     "data": {
      "text/html": [
       "<div style=\"max-height:1000px;max-width:1500px;overflow:auto;\">\n",
       "<table border=\"1\" class=\"dataframe\">\n",
       "  <thead>\n",
       "    <tr style=\"text-align: right;\">\n",
       "      <th></th>\n",
       "      <th>radiant_win</th>\n",
       "    </tr>\n",
       "    <tr>\n",
       "      <th>match_id</th>\n",
       "      <th></th>\n",
       "    </tr>\n",
       "  </thead>\n",
       "  <tbody>\n",
       "    <tr>\n",
       "      <th>6 </th>\n",
       "      <td> 0.835269</td>\n",
       "    </tr>\n",
       "    <tr>\n",
       "      <th>7 </th>\n",
       "      <td> 0.776758</td>\n",
       "    </tr>\n",
       "    <tr>\n",
       "      <th>10</th>\n",
       "      <td> 0.202320</td>\n",
       "    </tr>\n",
       "    <tr>\n",
       "      <th>13</th>\n",
       "      <td> 0.871738</td>\n",
       "    </tr>\n",
       "    <tr>\n",
       "      <th>16</th>\n",
       "      <td> 0.261614</td>\n",
       "    </tr>\n",
       "  </tbody>\n",
       "</table>\n",
       "</div>"
      ],
      "text/plain": [
       "          radiant_win\n",
       "match_id             \n",
       "6            0.835269\n",
       "7            0.776758\n",
       "10           0.202320\n",
       "13           0.871738\n",
       "16           0.261614"
      ]
     },
     "execution_count": 123,
     "metadata": {},
     "output_type": "execute_result"
    }
   ],
   "source": [
    "result = pandas.DataFrame(data=radiant_probs, index=test.index, columns=['radiant_win'])\n",
    "\n",
    "result.head()"
   ]
  },
  {
   "cell_type": "code",
   "execution_count": 124,
   "metadata": {
    "collapsed": true
   },
   "outputs": [],
   "source": [
    "result.to_csv('to_kaggle.csv')"
   ]
  },
  {
   "cell_type": "markdown",
   "metadata": {},
   "source": [
    "This got me instantly into the top 15% in the Kaggle Leaderboard which means I am on the right track. "
   ]
  }
 ],
 "metadata": {
  "kernelspec": {
   "display_name": "Python 2",
   "language": "python",
   "name": "python2"
  },
  "language_info": {
   "codemirror_mode": {
    "name": "ipython",
    "version": 2
   },
   "file_extension": ".py",
   "mimetype": "text/x-python",
   "name": "python",
   "nbconvert_exporter": "python",
   "pygments_lexer": "ipython2",
   "version": "2.7.10"
  }
 },
 "nbformat": 4,
 "nbformat_minor": 0
}
