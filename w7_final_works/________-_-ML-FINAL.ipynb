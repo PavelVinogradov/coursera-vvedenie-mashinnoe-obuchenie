{
 "cells": [
  {
   "cell_type": "markdown",
   "metadata": {},
   "source": [
    "# Финальное задание. Игра Dota 2"
   ]
  },
  {
   "cell_type": "markdown",
   "metadata": {},
   "source": [
    "## Подготовка данных"
   ]
  },
  {
   "cell_type": "markdown",
   "metadata": {},
   "source": [
    "Проведем загрузку данных и преварительную обработку:\n",
    "\n",
    "    1.уберем из выборки признаки, которые \"заглядывают в будущее\";\n",
    "    2.отделим целевую переменную (radiant_win) от признаков;"
   ]
  },
  {
   "cell_type": "code",
   "execution_count": 2,
   "metadata": {
    "collapsed": true
   },
   "outputs": [],
   "source": [
    "import pandas as pd\n",
    "import numpy as np\n",
    "import sklearn"
   ]
  },
  {
   "cell_type": "code",
   "execution_count": 3,
   "metadata": {
    "collapsed": false
   },
   "outputs": [],
   "source": [
    "features = pd.read_csv('E:\\\\BOBA\\\\edu\\\\Coursera Machine Learning\\\\Final project\\\\features.csv', index_col='match_id')\n",
    "x = features.drop([\"radiant_win\", \"duration\", \"tower_status_radiant\", \"tower_status_dire\", \"barracks_status_radiant\", \n",
    "                    \"barracks_status_dire\"], 1)\n",
    "y = features[[\"radiant_win\"]]"
   ]
  },
  {
   "cell_type": "markdown",
   "metadata": {},
   "source": [
    "    3.Проверим есть ли в выборки пропуски (список признаков с пропусками ниже) и заменим их нулями."
   ]
  },
  {
   "cell_type": "code",
   "execution_count": 4,
   "metadata": {
    "collapsed": false
   },
   "outputs": [
    {
     "data": {
      "text/plain": [
       "first_blood_time               19553\n",
       "first_blood_team               19553\n",
       "first_blood_player1            19553\n",
       "first_blood_player2            43987\n",
       "radiant_bottle_time            15691\n",
       "radiant_courier_time             692\n",
       "radiant_flying_courier_time    27479\n",
       "radiant_first_ward_time         1836\n",
       "dire_bottle_time               16143\n",
       "dire_courier_time                676\n",
       "dire_flying_courier_time       26098\n",
       "dire_first_ward_time            1826\n",
       "dtype: int64"
      ]
     },
     "execution_count": 4,
     "metadata": {},
     "output_type": "execute_result"
    }
   ],
   "source": [
    "x.isnull().sum()[x.isnull().sum()>0]"
   ]
  },
  {
   "cell_type": "markdown",
   "metadata": {},
   "source": [
    "Пропуски в полях \"first_blood_...\" вероятно означает, что в игре в течение первых пяти минут не наступило событие \"Первая кровь\"."
   ]
  },
  {
   "cell_type": "code",
   "execution_count": 7,
   "metadata": {
    "collapsed": false
   },
   "outputs": [],
   "source": [
    "x.fillna(0, inplace=True)"
   ]
  },
  {
   "cell_type": "markdown",
   "metadata": {},
   "source": [
    "## Градиентный бустинг "
   ]
  },
  {
   "cell_type": "markdown",
   "metadata": {},
   "source": [
    "Попробуем спрогнозировать результат матча с помощью градиентного бустинга. Рассмотрим несколько значений параметров модели, а именно: параметра 'learning rate' и параметра, регулирующего количество деревьев в ансамбле. Проведем NxK кросс-валидацию по пяти блокам для оценки качества каждой модели. Критерий качества - площадь под ROC-кривой. На графике ниже приведены результаты оценки моделей."
   ]
  },
  {
   "cell_type": "code",
   "execution_count": 156,
   "metadata": {
    "collapsed": false
   },
   "outputs": [
    {
     "data": {
      "text/plain": [
       "<matplotlib.text.Text at 0x2d4e9f28>"
      ]
     },
     "execution_count": 156,
     "metadata": {},
     "output_type": "execute_result"
    },
    {
     "data": {
      "image/png": "[encoded data removed]",
      "text/plain": [
       "<matplotlib.figure.Figure at 0x2129cb70>"
      ]
     },
     "metadata": {},
     "output_type": "display_data"
    }
   ],
   "source": [
    "import sklearn.ensemble\n",
    "param_grid = dict(learning_rate = np.arange(0.1, 1, 0.2), n_estimators = [10, 20, 30])\n",
    "learner = sklearn.ensemble.GradientBoostingClassifier(random_state=123)\n",
    "validator = sklearn.cross_validation.KFold(len(y), n_folds=5, shuffle=True, random_state=123)\n",
    "gs = sklearn.grid_search.GridSearchCV(learner, param_grid = param_grid, scoring='roc_auc', cv=validator)\n",
    "gs.fit(x, np.ravel(y))\n",
    "import matplotlib.pyplot as plt\n",
    "%matplotlib inline\n",
    "plt.figure()\n",
    "plt.plot(param_grid['learning_rate'], zip(*filter(lambda x: x[0]['n_estimators'] == 10, gs.grid_scores_))[1], 'ro')\n",
    "plt.plot(param_grid['learning_rate'], zip(*filter(lambda x: x[0]['n_estimators'] == 20, gs.grid_scores_))[1], 'go')\n",
    "plt.plot(param_grid['learning_rate'], zip(*filter(lambda x: x[0]['n_estimators'] == 30, gs.grid_scores_))[1], 'bo')\n",
    "plt.legend(['Score. 10 trees','Score. 20 trees','Score. 30 trees'], loc = 'best')\n",
    "plt.title('Gradient boosting')"
   ]
  },
  {
   "cell_type": "markdown",
   "metadata": {},
   "source": [
    "Видно, что во всех случаях лучшее качество показали модели с 30 деревьями. Наилучшее качество показала модель с параметром learning_rate равным 0.5. Используем эту модель для оценки времени кросс-валидации."
   ]
  },
  {
   "cell_type": "code",
   "execution_count": 188,
   "metadata": {
    "collapsed": false
   },
   "outputs": [
    {
     "name": "stdout",
     "output_type": "stream",
     "text": [
      "Score is 0.701862546699 . Validation took 221.036 sec\n"
     ]
    }
   ],
   "source": [
    "import time\n",
    "import datetime\n",
    "learner = sklearn.ensemble.GradientBoostingClassifier(n_estimators=30, random_state=123, learning_rate=0.5)\n",
    "start_time = datetime.datetime.now()\n",
    "score = np.mean(sklearn.cross_validation.cross_val_score(learner, x, np.ravel(y), cv=validator, scoring=\"roc_auc\"))\n",
    "print 'Score is', score, '. Validation took', (datetime.datetime.now() - start_time).total_seconds(), 'sec'"
   ]
  },
  {
   "cell_type": "markdown",
   "metadata": {},
   "source": [
    "Кросс-валидация заняла практически 4 минуты.\n",
    "\n",
    "Качество прогнозирования удовлетворительное, хотя автор уверен, что его можно улучшить за счет увеличения количества деревьев в ансамбле, более точной настроки параметра learning_rate и глубины деревьев (по умолчанию 3). Во всяком случае имеет смысл увеличивать количество деревьев в бустинге, скорее всего в этой задаче (как и во многих других) разумно большое количество деревьев не приведет к переобучению. Однако при увеличении количества деревьев выростит и время обучения ансамбля. Автор считает, что лучшим способом ускорения обучения было бы использование \"хорошего\" метода оптимизации параметров (не жадного, для глобальной оптимизации, с элементами рандомизации). Такой подход скорее всего приведет к меньшему количеству циклов обучения при лучшем качестве на выходе. Хотя можно конечно ещё сокращать объем выборки на обучении, например с помощью параметра subsample. Также может оказаться, что при большем количестве деревьев оптимальным будет выбор деревьев меньшей глубины (например 2), что тоже ускорит процесс обучения. Впрочем, ни один из этих подходов не противоречит друг другу и их можно использовать совместно."
   ]
  },
  {
   "cell_type": "markdown",
   "metadata": {},
   "source": [
    "## Логистическая регрессия"
   ]
  },
  {
   "cell_type": "markdown",
   "metadata": {},
   "source": [
    "Теперь попробуем предсказать итог матча с помощью логистической регрессии. Т.к. выбранный нами метод чувствительный к масштабу данных, будем стандартизировать данные. Для борьбы с эффектом мульколлинеарности воспользуемся l2-регуляризацией. Проведем перебор значений параметра регуляризатора для нахождения наилучшего с точки зрения критерия качества на кросс-валидации по пяти блокам. Критерий качества, по прежнему, площадь под ROC-кривой."
   ]
  },
  {
   "cell_type": "code",
   "execution_count": 190,
   "metadata": {
    "collapsed": false
   },
   "outputs": [
    {
     "data": {
      "text/plain": [
       "<matplotlib.text.Text at 0x87391cf8>"
      ]
     },
     "execution_count": 190,
     "metadata": {},
     "output_type": "execute_result"
    },
    {
     "data": {
      "image/png": "[encoded data removed]",
      "text/plain": [
       "<matplotlib.figure.Figure at 0x86c4ed68>"
      ]
     },
     "metadata": {},
     "output_type": "display_data"
    }
   ],
   "source": [
    "from sklearn.preprocessing import StandardScaler\n",
    "scaler = StandardScaler()\n",
    "xs = scaler.fit_transform(x)\n",
    "\n",
    "param_grid = dict(C = np.power(10.0, np.arange(-5, 5)))\n",
    "learner = sklearn.linear_model.LogisticRegression(random_state=123)\n",
    "validator = sklearn.cross_validation.KFold(len(y), n_folds=5, shuffle=True, random_state=123)\n",
    "gs = sklearn.grid_search.GridSearchCV(learner, param_grid = param_grid, scoring='roc_auc', cv=validator)\n",
    "gs.fit(xs, np.ravel(y))\n",
    "plt.figure()\n",
    "plt.plot(np.log10(param_grid['C']), zip(*gs.grid_scores_)[1], 'ro')\n",
    "plt.legend(['Validation score'], loc = 'best')\n",
    "plt.title('Logistic regression. All features')\n",
    "plt.xlabel('log10(C)')"
   ]
  },
  {
   "cell_type": "markdown",
   "metadata": {},
   "source": [
    "Наибольшая площадь под ROC-кривой достигается при значении C равном 10^-2. Используем эту модель для оценки времени кросс-валидации."
   ]
  },
  {
   "cell_type": "code",
   "execution_count": 193,
   "metadata": {
    "collapsed": false
   },
   "outputs": [
    {
     "name": "stdout",
     "output_type": "stream",
     "text": [
      "Score is 0.716343021043 . Validation took 19.18 sec\n"
     ]
    }
   ],
   "source": [
    "learner = sklearn.linear_model.LogisticRegression(C = 10**-2, random_state=123)\n",
    "start_time = datetime.datetime.now()\n",
    "score = np.mean(sklearn.cross_validation.cross_val_score(learner, xs, np.ravel(y), cv=validator, scoring=\"roc_auc\"))\n",
    "print 'Score is', score, '. Validation took', (datetime.datetime.now() - start_time).total_seconds(), 'sec'"
   ]
  },
  {
   "cell_type": "markdown",
   "metadata": {},
   "source": [
    "Кросс-валидация заняла 19 секунд. При этом качество и скорость логистической регрессии оказывается лучше, чем в градиентном бустинге. В первую очередь, автор объясняет это довольно грубым подходом к оптимизации параметров алгоритмов. Вероятнее всего, набор параметров градиентного бустинга далек от оптимального, впрочем может быть так, что данная конретная задача действительно лучше решается логистической регрессией и парадигма этого способа моделирования лучше подходит под условия задачи.\n",
    "\n",
    "Уберем из выборки категорийные переменные, отражающие тип комнаты, а также типы героев, выбранных игроками обеих команд. Заменим пропуски в данных нулями и проведем стандартизацию признаков."
   ]
  },
  {
   "cell_type": "code",
   "execution_count": 160,
   "metadata": {
    "collapsed": false
   },
   "outputs": [],
   "source": [
    "x_num = features.drop([\"radiant_win\", \"duration\", \"tower_status_radiant\", \"tower_status_dire\", \"barracks_status_radiant\", \n",
    "                        \"barracks_status_dire\", \"lobby_type\", \n",
    "                        \"r1_hero\", \"r2_hero\", \"r3_hero\", \"r4_hero\", \"r5_hero\",\n",
    "                        \"d1_hero\", \"d2_hero\", \"d3_hero\", \"d4_hero\", \"d5_hero\"], 1)\n",
    "x_num.fillna(0, inplace=True)\n",
    "x_nums = scaler.fit_transform(x_num)"
   ]
  },
  {
   "cell_type": "markdown",
   "metadata": {},
   "source": [
    "Обучим классификатор на новой выборке, аналогично предыдущему обучению."
   ]
  },
  {
   "cell_type": "code",
   "execution_count": 194,
   "metadata": {
    "collapsed": false
   },
   "outputs": [
    {
     "data": {
      "text/plain": [
       "<matplotlib.text.Text at 0xaa113c50>"
      ]
     },
     "execution_count": 194,
     "metadata": {},
     "output_type": "execute_result"
    },
    {
     "data": {
      "image/png": "[encoded data removed]",
      "text/plain": [
       "<matplotlib.figure.Figure at 0xb5fc6320>"
      ]
     },
     "metadata": {},
     "output_type": "display_data"
    }
   ],
   "source": [
    "param_grid = dict(C = np.power(10.0, np.arange(-5, 5)))\n",
    "learner = sklearn.linear_model.LogisticRegression(random_state=123)\n",
    "validator = sklearn.cross_validation.KFold(len(y), n_folds=5, shuffle=True, random_state=123)\n",
    "gs = sklearn.grid_search.GridSearchCV(learner, param_grid = param_grid, scoring='roc_auc', cv=validator)\n",
    "gs.fit(x_nums, np.ravel(y))\n",
    "plt.figure()\n",
    "plt.plot(np.log10(param_grid['C']), zip(*gs.grid_scores_)[1], 'ro')\n",
    "plt.legend(['Validation score. Numerical features'], loc = 'best')\n",
    "plt.title('Logistic regression')\n",
    "plt.xlabel('log10(C)')"
   ]
  },
  {
   "cell_type": "markdown",
   "metadata": {},
   "source": [
    "Наилучшее качество показала модель с параметром C равным 10^-2. Посмотрим изменилось ли качество при удалении категорийных признаков. "
   ]
  },
  {
   "cell_type": "code",
   "execution_count": 201,
   "metadata": {
    "collapsed": false
   },
   "outputs": [
    {
     "name": "stdout",
     "output_type": "stream",
     "text": [
      "Score is 0.716402476136 . Validation took 18.985 sec\n"
     ]
    }
   ],
   "source": [
    "learner = sklearn.linear_model.LogisticRegression(C = 10**-2, random_state=123)\n",
    "start_time = datetime.datetime.now()\n",
    "score = np.mean(sklearn.cross_validation.cross_val_score(learner, x_nums, np.ravel(y), cv=validator, scoring=\"roc_auc\"))\n",
    "print 'Score is', score, '. Validation took', (datetime.datetime.now() - start_time).total_seconds(), 'sec'"
   ]
  },
  {
   "cell_type": "markdown",
   "metadata": {},
   "source": [
    "Качество незначительно улучшилось. Автор считает, что такое изменение качества модели связано с изменением блоков на кросс-валидации. Изменение матрицы \"объект-признак\" привело к формированию других блоков, что в свою очередь привело к незначительному изменению итоговой оценки алгоритма.\n",
    "\n",
    "\n",
    "\n",
    "Попробуем воспользоваться информацией о типах героев (ведь это довольно ценная информация). Закодируем признак принадлежности командам героев определенного типа с помощью \"мешка слов\". Посчитаем количество уникальных типов героев и приведем их идентификаторы."
   ]
  },
  {
   "cell_type": "code",
   "execution_count": 162,
   "metadata": {
    "collapsed": false
   },
   "outputs": [
    {
     "name": "stdout",
     "output_type": "stream",
     "text": [
      "There are 108 unique IDs of heroes. \n",
      "IDs:\n",
      "[  1   2   3   4   5   6   7   8   9  10  11  12  13  14  15  16  17  18\n",
      "  19  20  21  22  23  25  26  27  28  29  30  31  32  33  34  35  36  37\n",
      "  38  39  40  41  42  43  44  45  46  47  48  49  50  51  52  53  54  55\n",
      "  56  57  58  59  60  61  62  63  64  65  66  67  68  69  70  71  72  73\n",
      "  74  75  76  77  78  79  80  81  82  83  84  85  86  87  88  89  90  91\n",
      "  92  93  94  95  96  97  98  99 100 101 102 103 104 105 106 109 110 112]\n"
     ]
    }
   ],
   "source": [
    "hero_ids = np.unique(pd.concat([features.r1_hero, features.r2_hero, features.r3_hero, features.r4_hero, features.r5_hero, \n",
    "           features.d1_hero, features.d2_hero, features.d3_hero, features.d4_hero, features.d5_hero]))\n",
    "print 'There are', len(hero_ids), 'unique IDs of heroes. \\nIDs:\\n', hero_ids"
   ]
  },
  {
   "cell_type": "markdown",
   "metadata": {},
   "source": [
    "Закодируем признак принадлежности героя к команде. Добавим полученные признаки к набору признаков, из которго мы заранее исключили категорийные признаки и проведем стандартизацию новой матрицы \"объект-признак\"."
   ]
  },
  {
   "cell_type": "code",
   "execution_count": 163,
   "metadata": {
    "collapsed": false
   },
   "outputs": [],
   "source": [
    "X_pick = np.zeros((x_num.shape[0], 112))\n",
    "\n",
    "for i, match_id in enumerate(features.index):\n",
    "    for p in xrange(5):\n",
    "        X_pick[i, features.ix[match_id, 'r%d_hero' % (p+1)]-1] = 1\n",
    "        X_pick[i, features.ix[match_id, 'd%d_hero' % (p+1)]-1] = -1"
   ]
  },
  {
   "cell_type": "code",
   "execution_count": 164,
   "metadata": {
    "collapsed": false
   },
   "outputs": [],
   "source": [
    "x_num2 = pd.DataFrame(np.concatenate([x_num, pd.DataFrame(X_pick)], axis=1))\n",
    "x_num2s = scaler.fit_transform(x_num2)"
   ]
  },
  {
   "cell_type": "markdown",
   "metadata": {},
   "source": [
    "Обучим логистическую регрессию по старой схеме. На графике оценка площади под ROC-кривой в зависимости от значения параметра l2-регуляризатора."
   ]
  },
  {
   "cell_type": "code",
   "execution_count": 198,
   "metadata": {
    "collapsed": false
   },
   "outputs": [
    {
     "data": {
      "text/plain": [
       "<matplotlib.text.Text at 0xab3e2710>"
      ]
     },
     "execution_count": 198,
     "metadata": {},
     "output_type": "execute_result"
    },
    {
     "data": {
      "image/png": "[encoded data removed]",
      "text/plain": [
       "<matplotlib.figure.Figure at 0x86c4ecc0>"
      ]
     },
     "metadata": {},
     "output_type": "display_data"
    }
   ],
   "source": [
    "param_grid = dict(C = np.power(10.0, np.arange(-5, 5)))\n",
    "learner = sklearn.linear_model.LogisticRegression(random_state=123)\n",
    "validator = sklearn.cross_validation.KFold(len(y), n_folds=5, shuffle=True, random_state=123)\n",
    "gs = sklearn.grid_search.GridSearchCV(learner, param_grid = param_grid, scoring='roc_auc', cv=validator)\n",
    "gs.fit(x_num2s, np.ravel(y))\n",
    "plt.figure()\n",
    "plt.plot(np.log10(param_grid['C']), zip(*gs.grid_scores_)[1], 'ro')\n",
    "plt.legend(['Validation score. Numerical features'], loc = 'best')\n",
    "plt.title('Logistic regression')\n",
    "plt.xlabel('log10(C)')"
   ]
  },
  {
   "cell_type": "markdown",
   "metadata": {},
   "source": [
    "И опять лучшим значением параметра C стало значение 10^-2. Измерим значение метрики и время кросс-валидации полученной модели."
   ]
  },
  {
   "cell_type": "code",
   "execution_count": 202,
   "metadata": {
    "collapsed": false
   },
   "outputs": [
    {
     "name": "stdout",
     "output_type": "stream",
     "text": [
      "Score is 0.751775517691 . Validation took 37.128 sec\n"
     ]
    }
   ],
   "source": [
    "learner = sklearn.linear_model.LogisticRegression(C = 10**-2, random_state=123)\n",
    "start_time = datetime.datetime.now()\n",
    "score = np.mean(sklearn.cross_validation.cross_val_score(learner, x_num2s, np.ravel(y), cv=validator, scoring=\"roc_auc\"))\n",
    "print 'Score is', score, '. Validation took', (datetime.datetime.now() - start_time).total_seconds(), 'sec'"
   ]
  },
  {
   "cell_type": "markdown",
   "metadata": {},
   "source": [
    "Теперь качество выросло довольно сильно. Значит информация о типах героев действительно является ценной и вносит значимый вклад в итог игры.\n",
    "\n",
    "Лучшей из исследованных моделей оказалась логистическая регрессия c обнуленными значениями пропусков, с использованием \"мешка слов\" для кодирования признаков принадлежности типов героев к командам, с l2-регуляризацией с параметром C = 10^-2 построенная на стандартизированных данных. Используем эту модель для предсказания итога игры на тестовых данных."
   ]
  },
  {
   "cell_type": "code",
   "execution_count": 203,
   "metadata": {
    "collapsed": false
   },
   "outputs": [],
   "source": [
    "featuresT = pd.read_csv('E:\\\\BOBA\\\\edu\\\\Coursera Machine Learning\\\\Final project\\\\features_test.csv', index_col='match_id')\n",
    "x_numT = featuresT.drop([\"lobby_type\", \n",
    "                        \"r1_hero\", \"r2_hero\", \"r3_hero\", \"r4_hero\", \"r5_hero\",\n",
    "                        \"d1_hero\", \"d2_hero\", \"d3_hero\", \"d4_hero\", \"d5_hero\"], 1)\n",
    "x_numT.fillna(0, inplace=True)\n",
    "\n",
    "X_pickT = np.zeros((x_numT.shape[0], 112))\n",
    "\n",
    "for i, match_id in enumerate(featuresT.index):\n",
    "    for p in xrange(5):\n",
    "        X_pickT[i, featuresT.ix[match_id, 'r%d_hero' % (p+1)]-1] = 1\n",
    "        X_pickT[i, featuresT.ix[match_id, 'd%d_hero' % (p+1)]-1] = -1\n",
    "x_num2T = pd.DataFrame(np.concatenate([x_numT, pd.DataFrame(X_pickT)], axis=1))\n",
    "x_num2Ts = scaler.fit_transform(x_num2T)"
   ]
  },
  {
   "cell_type": "code",
   "execution_count": 204,
   "metadata": {
    "collapsed": false
   },
   "outputs": [],
   "source": [
    "learner = sklearn.linear_model.LogisticRegression(C = 10**-2, random_state=123)\n",
    "learner.fit(x_num2s, np.ravel(y))\n",
    "pred = learner.predict_proba(x_num2Ts)[:,1]"
   ]
  },
  {
   "cell_type": "markdown",
   "metadata": {},
   "source": [
    "Убедимся в том, что предсказания адекватные: лежат в промежутке [0, 1], а также не повторяют (ну или почти никогда не повторяются). Рассчитаем минимальное, максимальное значения прогнозов, подсчитаем количество прогнозов и количество уникальных прогнозов для тестовых данных."
   ]
  },
  {
   "cell_type": "code",
   "execution_count": 205,
   "metadata": {
    "collapsed": false
   },
   "outputs": [
    {
     "data": {
      "text/plain": [
       "(0.99632871592542938, 0.0087059007692345206, 17177, 17177)"
      ]
     },
     "execution_count": 205,
     "metadata": {},
     "output_type": "execute_result"
    }
   ],
   "source": [
    "max(pred), min(pred), len(pred), len(np.unique(pred))"
   ]
  },
  {
   "cell_type": "markdown",
   "metadata": {},
   "source": [
    "Действительно предсказания являются адекватными.\n",
    "\n",
    "В сухом остатке: \"Machine Learning - это круто!!\"\n",
    "    <img src = \"machine_learning_robot.jpg\">\n",
    "    \n",
    "Спасибо за внимание!"
   ]
  }
 ],
 "metadata": {
  "kernelspec": {
   "display_name": "Python 2",
   "language": "python",
   "name": "python2"
  },
  "language_info": {
   "codemirror_mode": {
    "name": "ipython",
    "version": 2
   },
   "file_extension": ".py",
   "mimetype": "text/x-python",
   "name": "python",
   "nbconvert_exporter": "python",
   "pygments_lexer": "ipython2",
   "version": "2.7.11"
  }
 },
 "nbformat": 4,
 "nbformat_minor": 0
}
